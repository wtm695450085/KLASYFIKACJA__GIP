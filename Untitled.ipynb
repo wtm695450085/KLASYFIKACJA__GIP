{
 "cells": [
  {
   "cell_type": "markdown",
   "metadata": {},
   "source": [
    "# Entropia"
   ]
  },
  {
   "attachments": {
    "obraz.png": {
     "image/png": "[encoded data removed]"
    }
   },
   "cell_type": "markdown",
   "metadata": {},
   "source": [
    "![obraz.png](attachment:obraz.png)"
   ]
  },
  {
   "cell_type": "markdown",
   "metadata": {},
   "source": [
    "$$\n",
    "\\log_2 x\n",
    "$$"
   ]
  },
  {
   "cell_type": "markdown",
   "metadata": {},
   "source": [
    "<font size=\"5\">  \n",
    "$$ \\bbox[#efefef,12px,border:1px solid black]\n",
    "{\n",
    " e^x=\\lim_{n\\to\\infty} \\left( 1+\\frac{x}{n} \\right)^n \n",
    "\\qquad (2)  \n",
    "} \n",
    "$$"
   ]
  },
  {
   "cell_type": "markdown",
   "metadata": {},
   "source": [
    "<font size=\"8\">  \n",
    "$$ \\bbox[#efefef,12px,border:1px solid black]\n",
    "{\n",
    " H(S)=\\sum\\limits_{i=1}^{c} - {p_{i}}\\log_{2}{p_{i}}\n",
    "\\qquad (1)  \n",
    "} \n",
    "$$"
   ]
  },
  {
   "cell_type": "markdown",
   "metadata": {},
   "source": [
    " <font size=\"5\"> \n",
    "\n",
    "\n",
    "$\n",
    " H(S_A)= -\\frac{6}{10}\\log_{2}\\left(\\frac{6}{10}\\right) - \\frac{4}{10}\\log_{2}\\left(\\frac{4}{10}\\right) \\approx 0.970\n",
    "\\qquad (11)\n",
    "$\n",
    " <font size=\"5\"> \n",
    "\n",
    "$\n",
    " H(S_B)= -\\frac{3}{6}\\log_{2}\\left(\\frac{3}{6}\\right) - \\frac{3}{6}\\log_{2}\\left(\\frac{3}{6}\\right) \\approx 1.000\n",
    "\\qquad (12)\n",
    "$\n",
    " <font size=\"5\"> \n",
    "\n",
    "$\n",
    " H(S_C)= -\\frac{1}{4}\\log_{2}\\left(\\frac{1}{4}\\right) - \\frac{3}{4}\\log_{2}\\left(\\frac{3}{4}\\right) \\approx 0.811\n",
    "\\qquad (13)\n",
    "$"
   ]
  },
  {
   "cell_type": "markdown",
   "metadata": {},
   "source": [
    " <font size=\"5\"> \n",
    "\n",
    "\n",
    "$\n",
    " H(S_2)= -\\frac{2}{5}\\log_{2}\\left(\\frac{2}{5}\\right) - \\frac{3}{5}\\log_{2}\\left(\\frac{3}{5}\\right) \\approx 0.970\n",
    "\\qquad (7)\n",
    "$\n",
    " <font size=\"5\"> \n",
    "\n",
    "$\n",
    " H(S_3)= -\\frac{1}{6}\\log_{2}\\left(\\frac{1}{6}\\right) - \\frac{5}{6}\\log_{2}\\left(\\frac{5}{6}\\right) \\approx 0.650\n",
    "\\qquad (8)\n",
    "$"
   ]
  },
  {
   "cell_type": "markdown",
   "metadata": {},
   "source": [
    " <font size=\"5\"> \n",
    "\n",
    "$\n",
    " H(S_A,S_B,S_C)=   {{\\frac{10}{20}}\\times{0.970}} + \\frac{6}{20}\\times1.000 + \\frac{4}{20}\\times0.811 \\approx 0.947\n",
    "\\qquad (14)\n",
    "$\n",
    "<font size=\"5\"> \n",
    "\n",
    "$\n",
    "{\n",
    "IG(S,S_{A,B,C}) = H(S) - H(S/S_{A,B,C})} = 0.97 - 0.947 \\approx 0.023\n",
    "\\qquad (15)\n",
    "$\n",
    "\n",
    "\n"
   ]
  },
  {
   "cell_type": "code",
   "execution_count": 23,
   "metadata": {},
   "outputs": [
    {
     "data": {
      "text/plain": [
       "0.9471999999999999"
      ]
     },
     "execution_count": 23,
     "metadata": {},
     "output_type": "execute_result"
    }
   ],
   "source": [
    "((10/20)*0.970)+((6/20)*1.0)+((4/20)*0.811)"
   ]
  },
  {
   "cell_type": "code",
   "execution_count": 20,
   "metadata": {},
   "outputs": [],
   "source": [
    "a =1\n",
    "b =3\n",
    "En = 4"
   ]
  },
  {
   "cell_type": "code",
   "execution_count": 21,
   "metadata": {},
   "outputs": [
    {
     "data": {
      "text/plain": [
       "0.8112781244591328"
      ]
     },
     "execution_count": 21,
     "metadata": {},
     "output_type": "execute_result"
    }
   ],
   "source": [
    "import math\n",
    "-((a/En)*math.log2(a/En))-((b/En)*math.log2(b/En))\n",
    "#-((b/En)*math.log2(b/En))"
   ]
  },
  {
   "cell_type": "markdown",
   "metadata": {},
   "source": [
    "<font size=\"5\"> \n",
    "\n",
    "$$\n",
    "{\n",
    "IG(S,S_{1,2,3}) = H(S) - H(S/S_{1,2,3})} = 0.97 - 0.4375 \\approx 0.023\n",
    "\\qquad (10)\n",
    "$$"
   ]
  },
  {
   "cell_type": "markdown",
   "metadata": {},
   "source": [
    "<font size=\"5\"> \n",
    "\n",
    "$$\n",
    "IG(S,S_{1,2,3}) = 0.97 - 0.26 = 0.71\n",
    "\\qquad (10)\n",
    "$$"
   ]
  },
  {
   "cell_type": "code",
   "execution_count": 24,
   "metadata": {},
   "outputs": [
    {
     "data": {
      "text/plain": [
       "0.02300000000000002"
      ]
     },
     "execution_count": 24,
     "metadata": {},
     "output_type": "execute_result"
    }
   ],
   "source": [
    "0.97 - 0.947"
   ]
  },
  {
   "cell_type": "code",
   "execution_count": 31,
   "metadata": {},
   "outputs": [],
   "source": [
    "A = 0\n",
    "B = 0.528\n",
    "C = 0.431\n",
    "\n",
    "AA = 9\n",
    "BB = 5\n",
    "CC = 6\n",
    "DD = 20"
   ]
  },
  {
   "cell_type": "code",
   "execution_count": 32,
   "metadata": {},
   "outputs": [
    {
     "data": {
      "text/plain": [
       "0.2613"
      ]
     },
     "execution_count": 32,
     "metadata": {},
     "output_type": "execute_result"
    }
   ],
   "source": [
    "((AA/DD)*A)+((BB/DD)*B)+((CC/DD)*C)"
   ]
  },
  {
   "cell_type": "code",
   "execution_count": null,
   "metadata": {},
   "outputs": [],
   "source": []
  },
  {
   "cell_type": "code",
   "execution_count": null,
   "metadata": {},
   "outputs": [],
   "source": []
  }
 ],
 "metadata": {
  "kernelspec": {
   "display_name": "Python 3",
   "language": "python",
   "name": "python3"
  },
  "language_info": {
   "codemirror_mode": {
    "name": "ipython",
    "version": 3
   },
   "file_extension": ".py",
   "mimetype": "text/x-python",
   "name": "python",
   "nbconvert_exporter": "python",
   "pygments_lexer": "ipython3",
   "version": "3.7.4"
  }
 },
 "nbformat": 4,
 "nbformat_minor": 2
}
