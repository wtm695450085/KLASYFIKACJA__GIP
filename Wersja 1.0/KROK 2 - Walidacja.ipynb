{
 "cells": [
  {
   "cell_type": "markdown",
   "metadata": {},
   "source": [
    "<span style=\"font-size: 210%;color:white;background:black\"> Walidacja modeli [Stroke_Prediction.csv]\n",
    "\n",
    "### <span style=\"color:blue\"> Cognition comes by comparison! Friedrich Wilhelm Nietzsche\n",
    "    \n",
    "Modele cross-validated mogą być zgrane z dysku - jakość zgranych modeli zależy między innymi od wielkości próby na jakiej zostały przeszkolone. Jeżeli wgramy model szkolony na próbie 0.05 to gdy po zgraniu tych modeli z dysku ustawimy 0.05 populacji to otrzymamy identyczne wyniki na wskaźnikach. Czyli nagranie trzyma wyuczenie modeli. Natomiast można modele wyszkolić na próbie 0.5 a nastepnie wgrać i uruchomić na próbie 100%.     \n",
    " \n",
    "## <span style=\"font-size: 100%;color:#6fa8dc;background:#cfe2f3\">Ważne wnioski!!\n",
    "\n",
    "## <span style=\"font-size: 100%;color:#6fa8dc;background:#cfe2f3\">Modele cross-validated wyćwiczony na małej próbie z beznadziejnymi odczytami i parametrami, uruchomiony na pełnej próbie 100% zachowuje się znacznie lepiej. Dodatkowo zgranie wzbagowanych wersji słabych modeli cross-validated z małej próby daje bardzo dobre rezultaty jeżeli chodzi o poprawę parametrów na wielkiej próbie 100%."
   ]
  },
  {
   "cell_type": "code",
   "execution_count": 1,
   "metadata": {},
   "outputs": [
    {
     "name": "stdout",
     "output_type": "stream",
     "text": [
      "(43400, 12)\n",
      "\n",
      "Index(['ID', 'Gender', 'Age_In_Days', 'Hypertension', 'Heart_Disease',\n",
      "       'Ever_Married', 'Type_Of_Work', 'Residence', 'Avg_Glucose', 'BMI',\n",
      "       'Smoking_Status', 'Stroke'],\n",
      "      dtype='object')\n"
     ]
    },
    {
     "data": {
      "text/html": [
       "<div>\n",
       "<style scoped>\n",
       "    .dataframe tbody tr th:only-of-type {\n",
       "        vertical-align: middle;\n",
       "    }\n",
       "\n",
       "    .dataframe tbody tr th {\n",
       "        vertical-align: top;\n",
       "    }\n",
       "\n",
       "    .dataframe thead th {\n",
       "        text-align: right;\n",
       "    }\n",
       "</style>\n",
       "<table border=\"1\" class=\"dataframe\">\n",
       "  <thead>\n",
       "    <tr style=\"text-align: right;\">\n",
       "      <th></th>\n",
       "      <th>ID</th>\n",
       "      <th>Gender</th>\n",
       "      <th>Age_In_Days</th>\n",
       "      <th>Hypertension</th>\n",
       "      <th>Heart_Disease</th>\n",
       "      <th>Ever_Married</th>\n",
       "      <th>Type_Of_Work</th>\n",
       "      <th>Residence</th>\n",
       "      <th>Avg_Glucose</th>\n",
       "      <th>BMI</th>\n",
       "      <th>Smoking_Status</th>\n",
       "      <th>Stroke</th>\n",
       "    </tr>\n",
       "  </thead>\n",
       "  <tbody>\n",
       "    <tr>\n",
       "      <td>0</td>\n",
       "      <td>31153</td>\n",
       "      <td>Male</td>\n",
       "      <td>1104.0</td>\n",
       "      <td>0</td>\n",
       "      <td>0</td>\n",
       "      <td>No</td>\n",
       "      <td>children</td>\n",
       "      <td>Rural</td>\n",
       "      <td>95.12</td>\n",
       "      <td>18.0</td>\n",
       "      <td>NaN</td>\n",
       "      <td>0</td>\n",
       "    </tr>\n",
       "    <tr>\n",
       "      <td>1</td>\n",
       "      <td>30650</td>\n",
       "      <td>Male</td>\n",
       "      <td>21204.0</td>\n",
       "      <td>1</td>\n",
       "      <td>0</td>\n",
       "      <td>Yes</td>\n",
       "      <td>Private</td>\n",
       "      <td>Urban</td>\n",
       "      <td>87.96</td>\n",
       "      <td>39.2</td>\n",
       "      <td>never smoked</td>\n",
       "      <td>0</td>\n",
       "    </tr>\n",
       "    <tr>\n",
       "      <td>2</td>\n",
       "      <td>17412</td>\n",
       "      <td>Female</td>\n",
       "      <td>2928.0</td>\n",
       "      <td>0</td>\n",
       "      <td>0</td>\n",
       "      <td>No</td>\n",
       "      <td>Private</td>\n",
       "      <td>Urban</td>\n",
       "      <td>110.89</td>\n",
       "      <td>17.6</td>\n",
       "      <td>NaN</td>\n",
       "      <td>0</td>\n",
       "    </tr>\n",
       "  </tbody>\n",
       "</table>\n",
       "</div>"
      ],
      "text/plain": [
       "      ID  Gender  Age_In_Days  Hypertension  Heart_Disease Ever_Married  \\\n",
       "0  31153    Male       1104.0             0              0           No   \n",
       "1  30650    Male      21204.0             1              0          Yes   \n",
       "2  17412  Female       2928.0             0              0           No   \n",
       "\n",
       "  Type_Of_Work Residence  Avg_Glucose   BMI Smoking_Status  Stroke  \n",
       "0     children     Rural        95.12  18.0            NaN       0  \n",
       "1      Private     Urban        87.96  39.2   never smoked       0  \n",
       "2      Private     Urban       110.89  17.6            NaN       0  "
      ]
     },
     "execution_count": 1,
     "metadata": {},
     "output_type": "execute_result"
    }
   ],
   "source": [
    "import pandas as pd\n",
    "import numpy as np\n",
    "import seaborn as sns\n",
    "import matplotlib.pyplot as plt\n",
    "import warnings\n",
    "from sklearn.ensemble import BaggingClassifier\n",
    "from simple_colors import *\n",
    "from prettytable import PrettyTable\n",
    "import time\n",
    "import joblib\n",
    "\n",
    "warnings.filterwarnings(\"ignore\")\n",
    "\n",
    "%matplotlib inline\n",
    "\n",
    "df = pd.read_csv('/media/wojciech/D6DE33C1DE339927/1A/Stroke_Prediction.csv')\n",
    "print(df.shape)\n",
    "print()\n",
    "print(df.columns)\n",
    "df.head(3)"
   ]
  },
  {
   "cell_type": "markdown",
   "metadata": {},
   "source": [
    "## <div class=\"alert-success\"> Cudowna formuła poprawiająca nazwy kolumn"
   ]
  },
  {
   "cell_type": "code",
   "execution_count": 2,
   "metadata": {},
   "outputs": [],
   "source": [
    "import re\n",
    "df = df.rename(columns=lambda x: re.sub('[^A-Za-z0-9_]+', '', x))"
   ]
  },
  {
   "cell_type": "markdown",
   "metadata": {},
   "source": [
    "## <div class=\"alert-success\"> Sample reduction:</div>"
   ]
  },
  {
   "cell_type": "code",
   "execution_count": 3,
   "metadata": {},
   "outputs": [
    {
     "data": {
      "text/plain": [
       "(21700, 12)"
      ]
     },
     "execution_count": 3,
     "metadata": {},
     "output_type": "execute_result"
    }
   ],
   "source": [
    "df = df.sample(frac=0.5, random_state=10)\n",
    "df.shape"
   ]
  },
  {
   "cell_type": "markdown",
   "metadata": {},
   "source": [
    "#### Start pomiaru czasu"
   ]
  },
  {
   "cell_type": "code",
   "execution_count": 4,
   "metadata": {},
   "outputs": [
    {
     "name": "stdout",
     "output_type": "stream",
     "text": [
      "Mon Nov 16 21:39:34 2020\n"
     ]
    }
   ],
   "source": [
    "import time\n",
    "start_time = time.time()  # pomiar czasu: start pomiaru czasu\n",
    "print(time.ctime())"
   ]
  },
  {
   "cell_type": "markdown",
   "metadata": {},
   "source": [
    "### Tool for automatic coding of discrete variables !\n"
   ]
  },
  {
   "cell_type": "code",
   "execution_count": 5,
   "metadata": {},
   "outputs": [
    {
     "name": "stdout",
     "output_type": "stream",
     "text": [
      "DISCRETE FUNCTIONS CODED\n",
      "------------------------\n",
      "Gender --- object\n",
      "Ever_Married --- object\n",
      "Type_Of_Work --- object\n",
      "Residence --- object\n",
      "Smoking_Status --- object\n"
     ]
    }
   ],
   "source": [
    "a, b = df.shape  # <- ile mamy kolumn\n",
    "b\n",
    "\n",
    "print('DISCRETE FUNCTIONS CODED')\n",
    "print('------------------------')\n",
    "for i in range(1, b):\n",
    "    i = df.columns[i]\n",
    "    f = df[i].dtypes\n",
    "    if f == np.object:\n",
    "        print(i, \"---\", f)\n",
    "\n",
    "        if f == np.object:\n",
    "\n",
    "            df[i] = pd.Categorical(df[i]).codes\n",
    "\n",
    "            continue"
   ]
  },
  {
   "cell_type": "code",
   "execution_count": 6,
   "metadata": {},
   "outputs": [],
   "source": [
    "df.fillna(7777, inplace=True)"
   ]
  },
  {
   "cell_type": "markdown",
   "metadata": {},
   "source": [
    "## <div class=\"alert-success\"> Ręczne ustawienie celu"
   ]
  },
  {
   "cell_type": "code",
   "execution_count": 7,
   "metadata": {},
   "outputs": [],
   "source": [
    "target = 'Stroke'"
   ]
  },
  {
   "cell_type": "code",
   "execution_count": 8,
   "metadata": {},
   "outputs": [],
   "source": [
    "from sklearn.model_selection import train_test_split\n",
    "X = df.drop(target, axis=1)\n",
    "y = df[target]\n",
    "\n",
    "X_train, X_test, y_train, y_test = train_test_split(\n",
    "    X, y, test_size=0.20, random_state=123, stratify=y)"
   ]
  },
  {
   "cell_type": "raw",
   "metadata": {},
   "source": [
    "X_test = X_test.values\n",
    "y_test = y_test.values\n",
    "X_train = X_train.values\n",
    "y_train = y_train.values"
   ]
  },
  {
   "cell_type": "markdown",
   "metadata": {},
   "source": [
    "# <span style=\"font-size: 100%;color:#6fa8dc;background:#cfe2f3\">Oversampling   !! "
   ]
  },
  {
   "cell_type": "code",
   "execution_count": 9,
   "metadata": {},
   "outputs": [],
   "source": [
    "def oversampling(ytrain, Xtrain):\n",
    "    import matplotlib.pyplot as plt\n",
    "\n",
    "    global Xtrain_OV\n",
    "    global ytrain_OV\n",
    "\n",
    "    calss1 = np.round(\n",
    "        (sum(ytrain == 1)/(sum(ytrain == 0)+sum(ytrain == 1))), decimals=2)*100\n",
    "    calss0 = np.round(\n",
    "        (sum(ytrain == 0)/(sum(ytrain == 0)+sum(ytrain == 1))), decimals=2)*100\n",
    "\n",
    "    print(\"y = 0: \", sum(ytrain == 0), '-------', calss0, '%')\n",
    "    print(\"y = 1: \", sum(ytrain == 1), '-------', calss1, '%')\n",
    "    print('--------------------------------------------------------')\n",
    "\n",
    "    ytrain.value_counts(dropna=False, normalize=True).plot(\n",
    "        kind='pie', title='Before oversampling')\n",
    "    plt.show\n",
    "    print()\n",
    "\n",
    "    Proporcja = sum(ytrain == 0) / sum(ytrain == 1)\n",
    "    Proporcja = np.round(Proporcja, decimals=0)\n",
    "    Proporcja = Proporcja.astype(int)\n",
    "\n",
    "    ytrain_OV = pd.concat([ytrain[ytrain == 1]] * Proporcja, axis=0)\n",
    "    Xtrain_OV = pd.concat([Xtrain.loc[ytrain == 1, :]] * Proporcja, axis=0)\n",
    "\n",
    "    ytrain_OV = pd.concat([ytrain, ytrain_OV], axis=0).reset_index(drop=True)\n",
    "    Xtrain_OV = pd.concat([Xtrain, Xtrain_OV], axis=0).reset_index(drop=True)\n",
    "\n",
    "    Xtrain_OV = pd.DataFrame(Xtrain_OV)\n",
    "    ytrain_OV = pd.DataFrame(ytrain_OV)\n",
    "\n",
    "    print(\"Before oversampling Xtrain:     \", Xtrain.shape)\n",
    "    print(\"Before oversampling ytrain:     \", ytrain.shape)\n",
    "    print('--------------------------------------------------------')\n",
    "    print(\"After oversampling Xtrain_OV:  \", Xtrain_OV.shape)\n",
    "    print(\"After oversampling ytrain_OV:  \", ytrain_OV.shape)\n",
    "    print('--------------------------------------------------------')\n",
    "\n",
    "    ax = plt.subplot(1, 2, 1)\n",
    "    ytrain.value_counts(dropna=False, normalize=True).plot(\n",
    "        kind='pie', title='Before oversampling')\n",
    "    plt.show\n",
    "\n",
    "    kot = pd.concat([ytrain[ytrain == 1]] * Proporcja, axis=0)\n",
    "    kot = pd.concat([ytrain, kot], axis=0).reset_index(drop=True)\n",
    "    ax = plt.subplot(1, 2, 2)\n",
    "    kot.value_counts(dropna=False, normalize=True).plot(\n",
    "        kind='pie', title='After oversampling')\n",
    "    plt.show"
   ]
  },
  {
   "cell_type": "code",
   "execution_count": 10,
   "metadata": {},
   "outputs": [
    {
     "name": "stdout",
     "output_type": "stream",
     "text": [
      "y = 0:  17040 ------- 98.0 %\n",
      "y = 1:  320 ------- 2.0 %\n",
      "--------------------------------------------------------\n",
      "\n",
      "Before oversampling Xtrain:      (17360, 11)\n",
      "Before oversampling ytrain:      (17360,)\n",
      "--------------------------------------------------------\n",
      "After oversampling Xtrain_OV:   (34320, 11)\n",
      "After oversampling ytrain_OV:   (34320, 1)\n",
      "--------------------------------------------------------\n"
     ]
    },
    {
     "data": {
      "image/png": "[encoded data removed]",
      "text/plain": [
       "<Figure size 432x288 with 2 Axes>"
      ]
     },
     "metadata": {},
     "output_type": "display_data"
    }
   ],
   "source": [
    "oversampling(y_train, X_train)"
   ]
  },
  {
   "cell_type": "markdown",
   "metadata": {},
   "source": [
    "I used six models of GaussianNB, LogisticRegression, CatBoostClassifier in their basic version without oversamplin and with oversampling. We will see what differences in the minority set classification the oversampling method gives.!!"
   ]
  },
  {
   "cell_type": "markdown",
   "metadata": {},
   "source": [
    "I get rid of one dimension from the ytrain_OV set so that the set is similar to y_test."
   ]
  },
  {
   "cell_type": "code",
   "execution_count": 11,
   "metadata": {},
   "outputs": [
    {
     "name": "stdout",
     "output_type": "stream",
     "text": [
      "(34320, 11)\n",
      "(34320, 1)\n",
      "(34320,)\n"
     ]
    }
   ],
   "source": [
    "print(Xtrain_OV.shape)\n",
    "print(ytrain_OV.shape)\n",
    "ytrain_OV = ytrain_OV[target]\n",
    "print(ytrain_OV.shape)"
   ]
  },
  {
   "cell_type": "markdown",
   "metadata": {},
   "source": [
    "W poprzednim wpisie uznaliśmy, że oversampling poprawiło jakość klasyfikacji. Kolejne działania będą opierały sie na danych zbilansowanych przez oversampling. Dlatego teraz podmieniamy zwykłą próbę na próbę po oversamoling."
   ]
  },
  {
   "cell_type": "code",
   "execution_count": 12,
   "metadata": {},
   "outputs": [
    {
     "name": "stdout",
     "output_type": "stream",
     "text": [
      "(34320, 11)\n",
      "(34320,)\n"
     ]
    }
   ],
   "source": [
    "X_train = Xtrain_OV\n",
    "y_train = ytrain_OV\n",
    "print(X_train.shape)\n",
    "print(y_train.shape)"
   ]
  },
  {
   "cell_type": "code",
   "execution_count": 13,
   "metadata": {},
   "outputs": [
    {
     "name": "stdout",
     "output_type": "stream",
     "text": [
      "output: (34320, 11)\n",
      "output: (34320,)\n",
      "----------\n",
      "input: (21700, 12)\n"
     ]
    }
   ],
   "source": [
    "Data = Xtrain_OV\n",
    "target = ytrain_OV\n",
    "print(\"output:\", Data.shape)\n",
    "print(\"output:\", target.shape)\n",
    "print('----------')\n",
    "print(\"input:\", df.shape)"
   ]
  },
  {
   "cell_type": "code",
   "execution_count": 14,
   "metadata": {},
   "outputs": [
    {
     "data": {
      "text/plain": [
       "(34320, 11)"
      ]
     },
     "execution_count": 14,
     "metadata": {},
     "output_type": "execute_result"
    }
   ],
   "source": [
    "X_train.shape"
   ]
  },
  {
   "cell_type": "code",
   "execution_count": 15,
   "metadata": {},
   "outputs": [
    {
     "name": "stdout",
     "output_type": "stream",
     "text": [
      "1 (17280,)\n",
      "0 (17040,)\n"
     ]
    }
   ],
   "source": [
    "print('1', y_train[y_train==1].shape)\n",
    "print('0', y_train[y_train==0].shape)"
   ]
  },
  {
   "cell_type": "code",
   "execution_count": null,
   "metadata": {},
   "outputs": [],
   "source": []
  },
  {
   "cell_type": "markdown",
   "metadata": {},
   "source": [
    "## <div class=\"alert-success\"> Sterowanie zakresu waluacji"
   ]
  },
  {
   "cell_type": "code",
   "execution_count": 16,
   "metadata": {},
   "outputs": [],
   "source": [
    "Model1 = 1\n",
    "Model2 = 1\n",
    "Model3 = 1\n",
    "Model4 = 1"
   ]
  },
  {
   "cell_type": "markdown",
   "metadata": {},
   "source": [
    "### <span style=\"font-size: 110%;color:white;background:Red\">Model 1 <span style=\"font-size: 110%;color:#6fa8dc;background:#cfe2f3\">  Modele na ustawieniach fabrycznych\n"
   ]
  },
  {
   "cell_type": "code",
   "execution_count": 17,
   "metadata": {},
   "outputs": [],
   "source": [
    "if Model1 < 1 :\n",
    "    pass\n",
    "else:\n",
    "    \n",
    "    SVM = joblib.load('/home/wojciech/Pulpit/7/model1-SVM.pkl')\n",
    "    CBC = joblib.load('/home/wojciech/Pulpit/7/model1-CBC.pkl')\n",
    "    XGB = joblib.load('/home/wojciech/Pulpit/7/model1-XGB.pkl')\n",
    "    LGBM = joblib.load('/home/wojciech/Pulpit/7/model1-LGBM.pkl')\n",
    "    KNN = joblib.load('/home/wojciech/Pulpit/7/model1-KNN.pkl')\n",
    "    NBC = joblib.load('/home/wojciech/Pulpit/7/model1-NBC.pkl')\n",
    "    LRE = joblib.load('/home/wojciech/Pulpit/7/model1-LRE.pkl')\n",
    "    RFC = joblib.load('/home/wojciech/Pulpit/7/model1-RFC.pkl')\n",
    "    GBC = joblib.load('/home/wojciech/Pulpit/7/model1-GBC.pkl')\n",
    "\n",
    "classifiers_1 = [SVM,CBC,XGB,LGBM,KNN,NBC,LRE,RFC,GBC]\n",
    "name1 = ['SVM','CBC','XGB','LGBM','KNN','NBC','LRE','RFC','GBC']"
   ]
  },
  {
   "cell_type": "markdown",
   "metadata": {},
   "source": [
    "### <span style=\"font-size: 110%;color:white;background:Red\">Model 2  <span style=\"font-size: 110%;color:#6fa8dc;background:#cfe2f3\">  Modele na ustawieniach fabrycznych po bagging \n"
   ]
  },
  {
   "cell_type": "code",
   "execution_count": 18,
   "metadata": {},
   "outputs": [],
   "source": [
    "if Model2 < 1:\n",
    "    pass\n",
    "else:\n",
    "    \n",
    "    SVM_b = joblib.load('/home/wojciech/Pulpit/7/model2-SVM_b.pkl')\n",
    "    CBC_b = joblib.load('/home/wojciech/Pulpit/7/model2-CBC_b.pkl')\n",
    "    XGB_b = joblib.load('/home/wojciech/Pulpit/7/model2-XGB_b.pkl')\n",
    "    LGBM_b = joblib.load('/home/wojciech/Pulpit/7/model2-LGBM_b.pkl')\n",
    "    KNN_b = joblib.load('/home/wojciech/Pulpit/7/model2-KNN_b.pkl')\n",
    "    NBC_b = joblib.load('/home/wojciech/Pulpit/7/model2-NBC_b.pkl')\n",
    "    LRE_b = joblib.load('/home/wojciech/Pulpit/7/model2-LRE_b.pkl')\n",
    "    RFC_b = joblib.load('/home/wojciech/Pulpit/7/model2-RFC_b.pkl')\n",
    "    GBC_b = joblib.load('/home/wojciech/Pulpit/7/model2-GBC_b.pkl')\n",
    "\n",
    "    classifiers_2 = [SVM_b,CBC_b,XGB_b,LGBM_b,KNN_b,NBC_b,LRE_b,RFC_b,GBC_b]\n",
    "    name2 = ['SVM_b','CBC_b','XGB_b','LGBM_b','KNN_b','NBC_b','LRE_b','RFC_b','GBC_b']"
   ]
  },
  {
   "cell_type": "markdown",
   "metadata": {},
   "source": [
    "### <span style=\"font-size: 110%;color:white;background:Red\">Model 3  <span style=\"font-size: 110%;color:#6fa8dc;background:#cfe2f3\">  Modele na ustawieniach fabrycznych po kalibracji"
   ]
  },
  {
   "cell_type": "code",
   "execution_count": 19,
   "metadata": {},
   "outputs": [],
   "source": [
    "if Model3 < 1:\n",
    "    pass\n",
    "else:\n",
    "\n",
    "    SVM3 = joblib.load('/home/wojciech/Pulpit/7/model3-SVM_c.pkl')\n",
    "    CBC3 = joblib.load('/home/wojciech/Pulpit/7/model3-CBC_c.pkl')\n",
    "    XGB3 = joblib.load('/home/wojciech/Pulpit/7/model3-XGB_c.pkl')\n",
    "    LGBM3 = joblib.load('/home/wojciech/Pulpit/7/model3-LGBM_c.pkl')\n",
    "    KNN3 = joblib.load('/home/wojciech/Pulpit/7/model3-KNN_c.pkl')\n",
    "    NBC3 = joblib.load('/home/wojciech/Pulpit/7/model3-NBC_c.pkl')\n",
    "    LRE3 = joblib.load('/home/wojciech/Pulpit/7/model3-LRE_c.pkl')\n",
    "    RFC3 = joblib.load('/home/wojciech/Pulpit/7/model3-RFC_c.pkl')\n",
    "    GBC3 = joblib.load('/home/wojciech/Pulpit/7/model3-GBC_c.pkl')\n",
    "\n",
    "    classifiers_3 = [SVM3,CBC3,XGB3,LGBM3,KNN3,NBC3,LRE3,RFC3,GBC3]\n",
    "    name3 = ['SVM3','CBC3','XGB3','LGBM3','KNN3','NBC3','LRE3','RFC3','GBC3']"
   ]
  },
  {
   "cell_type": "markdown",
   "metadata": {},
   "source": [
    "### <span style=\"font-size: 110%;color:white;background:Red\">Model 4  <span style=\"font-size: 110%;color:#6fa8dc;background:#cfe2f3\">  Modele na ustawieniach fabrycznych po bagging i po kalibracji"
   ]
  },
  {
   "cell_type": "code",
   "execution_count": 20,
   "metadata": {},
   "outputs": [],
   "source": [
    "if Model4 < 1:\n",
    "    pass\n",
    "else:\n",
    "\n",
    "    SVM_b4 = joblib.load('/home/wojciech/Pulpit/7/model4-SVM_d.pkl')\n",
    "    CBC_b4 = joblib.load('/home/wojciech/Pulpit/7/model4-CBC_d.pkl')\n",
    "    XGB_b4 = joblib.load('/home/wojciech/Pulpit/7/model4-XGB_d.pkl')\n",
    "    LGBM_b4 = joblib.load('/home/wojciech/Pulpit/7/model4-LGBM_d.pkl')\n",
    "    KNN_b4 = joblib.load('/home/wojciech/Pulpit/7/model4-KNN_d.pkl')\n",
    "    NBC_b4 = joblib.load('/home/wojciech/Pulpit/7/model4-NBC_d.pkl')\n",
    "    LRE_b4 = joblib.load('/home/wojciech/Pulpit/7/model4-LRE_d.pkl')\n",
    "    RFC_b4 = joblib.load('/home/wojciech/Pulpit/7/model4-RFC_d.pkl')\n",
    "    GBC_b4 = joblib.load('/home/wojciech/Pulpit/7/model4-GBC_d.pkl')\n",
    "\n",
    "    classifiers_4 = [SVM_b4,CBC_b4,XGB_b4,LGBM_b4,KNN_b4,NBC_b4,LRE_b4,RFC_b4,GBC_b4]\n",
    "    name4 = ['SVM_b4','CBC_b4','XGB_b4','LGBM_b4','KNN_b4','NBC_b4','LRE_b4','RFC_b4','GBC_b4']"
   ]
  },
  {
   "cell_type": "markdown",
   "metadata": {},
   "source": [
    "### Gdzie zapisywane będą modele"
   ]
  },
  {
   "cell_type": "code",
   "execution_count": 21,
   "metadata": {},
   "outputs": [],
   "source": [
    "# <=  modele na ustawieniach fabrycznych\n",
    "csv1 = '/home/wojciech/Pulpit/7/model1.csv'\n",
    "# <=  modele na ustawieniach fabrycznych po bagging\n",
    "csv2 = '/home/wojciech/Pulpit/7/model2.csv'\n",
    "# <=  modele na ustawieniach fabrycznych po kalibracji\n",
    "csv3 = '/home/wojciech/Pulpit/7/model3.csv'\n",
    "# <=  modele na ustawieniach fabrycznych po bagging po kalibracji\n",
    "csv4 = '/home/wojciech/Pulpit/7/model4.csv'"
   ]
  },
  {
   "cell_type": "markdown",
   "metadata": {},
   "source": [
    "## <span style=\"font-size: 150%;color:#6fa8dc;background:#cfe2f3\"> Najważnieszy dla mnie zbiór wskaźników Type_error\n",
    "\n",
    "#### <span style=\"color:blue\">False_Positive_Rate - procentowy udział ludzi zdrowych uznanych przez model za chorych w populacji ludzi zdrowych\n",
    "\n",
    "#### <span style=\"color:blue\">True_Positive_Rate RECALL - wskaźnik ten pokazuje jaka jest wykrywalność choroby przez model."
   ]
  },
  {
   "cell_type": "code",
   "execution_count": 22,
   "metadata": {},
   "outputs": [],
   "source": [
    "def df_valuator(classifiers, names, y_test, X_test, adres):\n",
    "\n",
    "    def obliczenieX(model, names, y_test, X_test):\n",
    "\n",
    "        global dfv\n",
    "\n",
    "        from sklearn.metrics import confusion_matrix\n",
    "\n",
    "        cm = confusion_matrix(y_test, model.predict(X_test))\n",
    "        tn, fp, fn, tp = cm.ravel()\n",
    "\n",
    "        FPR = np.round(fp/(fp + tn), decimals=3)\n",
    "        TPR = np.round(tp/(tp + fn), decimals=3)\n",
    "        FNR = np.round(fn/(tp + fn), decimals=3)\n",
    "        SPEC = np.round(tn/(tn + fp), decimals=3)\n",
    "\n",
    "        dfv = pd.DataFrame({'model': names, 'FPR': [FPR], 'TPR': [\n",
    "                           TPR], 'FNR': [FNR], 'SPEC': [SPEC]})\n",
    "        return dfv\n",
    "\n",
    "# -------------------------------------------\n",
    "    start_time = time.time()\n",
    "\n",
    "    appended_data = []\n",
    "    for t, n in zip(classifiers, names):\n",
    "        results = obliczenieX(t, n, y_test, X_test)\n",
    "        appended_data.append(results)\n",
    "    appended_data = pd.concat(appended_data)\n",
    "    filename = adres  # .format(n)\n",
    "    appended_data.to_csv(filename)\n",
    "\n",
    "    p = np.round((time.time() - start_time), decimals=1)\n",
    "    print(blue(adres), p, \"---\", time.ctime())"
   ]
  },
  {
   "cell_type": "code",
   "execution_count": 23,
   "metadata": {},
   "outputs": [
    {
     "name": "stdout",
     "output_type": "stream",
     "text": [
      "\u001b[34m/home/wojciech/Pulpit/7/model1.csv\u001b[0m 0.8 --- Mon Nov 16 21:39:41 2020\n",
      "\u001b[34m/home/wojciech/Pulpit/7/model2.csv\u001b[0m 3.5 --- Mon Nov 16 21:39:45 2020\n",
      "\u001b[34m/home/wojciech/Pulpit/7/model3.csv\u001b[0m 2.4 --- Mon Nov 16 21:39:47 2020\n",
      "\u001b[34m/home/wojciech/Pulpit/7/model4.csv\u001b[0m 9.5 --- Mon Nov 16 21:39:57 2020\n"
     ]
    }
   ],
   "source": [
    " Valuator = [] \n",
    "\n",
    "if Model1 < 1:\n",
    "    pass\n",
    "else:    \n",
    "    df_valuator(classifiers_1 ,name1, y_test,X_test,csv1)\n",
    "    df_1 = pd.read_csv('/home/wojciech/Pulpit/7/model1.csv')\n",
    "    df_1['comment'] = 'Modele na ustawieniach fabrycznych'\n",
    "    Valuator = pd.concat([df_1], sort=True).sort_values(['FPR','TPR'],ascending=[True,False]) \n",
    "    \n",
    "if Model2 < 1:\n",
    "    pass\n",
    "else:        \n",
    "    df_valuator(classifiers_2 ,name2, y_test,X_test,csv2)\n",
    "    df_2 = pd.read_csv('/home/wojciech/Pulpit/7/model2.csv')\n",
    "    df_2['comment'] = 'Modele na ustawieniach fabrycznych po bagging'\n",
    "    Valuator = pd.concat([df_1,df_2], sort=True).sort_values(['FPR','TPR'],ascending=[True,False]) \n",
    "    \n",
    "if Model3 < 1:\n",
    "    pass\n",
    "else:    \n",
    "    df_valuator(classifiers_3 ,name3, y_test,X_test,csv3)\n",
    "    df_3 = pd.read_csv('/home/wojciech/Pulpit/7/model3.csv')\n",
    "    df_3['comment'] = 'Modele na ustawieniach fabrycznych po kalibracji'\n",
    "    Valuator = pd.concat([df_1,df_2,df_3], sort=True).sort_values(['FPR','TPR'],ascending=[True,False]) \n",
    "    \n",
    "    \n",
    "if Model4 < 1:\n",
    "    pass\n",
    "else:    \n",
    "    df_valuator(classifiers_4 ,name4, y_test,X_test,csv4)\n",
    "    df_4 = pd.read_csv('/home/wojciech/Pulpit/7/model4.csv')\n",
    "    df_4['comment'] = 'Modele na ustawieniach fabrycznych po bagging po kalibracji'\n",
    "    Valuator = pd.concat([df_1,df_2,df_3,df_4], sort=True).sort_values(['FPR','TPR'],ascending=[True,False]) \n",
    "    "
   ]
  },
  {
   "cell_type": "code",
   "execution_count": 24,
   "metadata": {},
   "outputs": [],
   "source": [
    "del Valuator['Unnamed: 0']"
   ]
  },
  {
   "cell_type": "code",
   "execution_count": 25,
   "metadata": {},
   "outputs": [
    {
     "name": "stdout",
     "output_type": "stream",
     "text": [
      "\u001b[1;31mFalse_Positive_Rate\u001b[0m \u001b[3;31mprocentowy udział ludzi zdrowych uznanych przez model za chorych w populacji ludzi zdrowych\u001b[0m\n",
      "\u001b[1;31mTrue_Positive_Rate RECALL\u001b[0m \u001b[3;31mprocentowy udział chorych dobrze zdiagnozowanych w populacji ludzi chorych ogółem\u001b[0m\n",
      "\u001b[1;30mFalse_Negative_Rate\u001b[0m \u001b[3;30mprocentowy udział niewykrytych chorych w populacji ludzi chorych ogółem\u001b[0m\n",
      "\u001b[1;30mSpecifity\u001b[0m \u001b[3;30mprocentowy udział ludzi zdrowych uznanych za zdrowych w populacji ludzi zdrowych\u001b[0m\n"
     ]
    },
    {
     "data": {
      "text/html": [
       "<div>\n",
       "<style scoped>\n",
       "    .dataframe tbody tr th:only-of-type {\n",
       "        vertical-align: middle;\n",
       "    }\n",
       "\n",
       "    .dataframe tbody tr th {\n",
       "        vertical-align: top;\n",
       "    }\n",
       "\n",
       "    .dataframe thead th {\n",
       "        text-align: right;\n",
       "    }\n",
       "</style>\n",
       "<table border=\"1\" class=\"dataframe\">\n",
       "  <thead>\n",
       "    <tr style=\"text-align: right;\">\n",
       "      <th></th>\n",
       "      <th>model</th>\n",
       "      <th>comment</th>\n",
       "      <th>TPR</th>\n",
       "      <th>FPR</th>\n",
       "    </tr>\n",
       "  </thead>\n",
       "  <tbody>\n",
       "    <tr>\n",
       "      <td>5</td>\n",
       "      <td>NBC_b</td>\n",
       "      <td>Modele na ustawieniach fabrycznych po bagging</td>\n",
       "      <td>0.700</td>\n",
       "      <td>0.161</td>\n",
       "    </tr>\n",
       "    <tr>\n",
       "      <td>5</td>\n",
       "      <td>NBC</td>\n",
       "      <td>Modele na ustawieniach fabrycznych</td>\n",
       "      <td>0.750</td>\n",
       "      <td>0.173</td>\n",
       "    </tr>\n",
       "    <tr>\n",
       "      <td>5</td>\n",
       "      <td>NBC3</td>\n",
       "      <td>Modele na ustawieniach fabrycznych po kalibracji</td>\n",
       "      <td>0.762</td>\n",
       "      <td>0.196</td>\n",
       "    </tr>\n",
       "    <tr>\n",
       "      <td>5</td>\n",
       "      <td>NBC_b4</td>\n",
       "      <td>Modele na ustawieniach fabrycznych po bagging ...</td>\n",
       "      <td>0.762</td>\n",
       "      <td>0.198</td>\n",
       "    </tr>\n",
       "    <tr>\n",
       "      <td>0</td>\n",
       "      <td>SVM_b4</td>\n",
       "      <td>Modele na ustawieniach fabrycznych po bagging ...</td>\n",
       "      <td>0.750</td>\n",
       "      <td>0.221</td>\n",
       "    </tr>\n",
       "    <tr>\n",
       "      <td>0</td>\n",
       "      <td>SVM3</td>\n",
       "      <td>Modele na ustawieniach fabrycznych po kalibracji</td>\n",
       "      <td>0.762</td>\n",
       "      <td>0.228</td>\n",
       "    </tr>\n",
       "    <tr>\n",
       "      <td>0</td>\n",
       "      <td>SVM</td>\n",
       "      <td>Modele na ustawieniach fabrycznych</td>\n",
       "      <td>0.762</td>\n",
       "      <td>0.231</td>\n",
       "    </tr>\n",
       "    <tr>\n",
       "      <td>0</td>\n",
       "      <td>SVM_b</td>\n",
       "      <td>Modele na ustawieniach fabrycznych po bagging</td>\n",
       "      <td>0.750</td>\n",
       "      <td>0.242</td>\n",
       "    </tr>\n",
       "    <tr>\n",
       "      <td>6</td>\n",
       "      <td>LRE_b4</td>\n",
       "      <td>Modele na ustawieniach fabrycznych po bagging ...</td>\n",
       "      <td>0.750</td>\n",
       "      <td>0.278</td>\n",
       "    </tr>\n",
       "    <tr>\n",
       "      <td>6</td>\n",
       "      <td>LRE3</td>\n",
       "      <td>Modele na ustawieniach fabrycznych po kalibracji</td>\n",
       "      <td>0.675</td>\n",
       "      <td>0.285</td>\n",
       "    </tr>\n",
       "    <tr>\n",
       "      <td>6</td>\n",
       "      <td>LRE_b</td>\n",
       "      <td>Modele na ustawieniach fabrycznych po bagging</td>\n",
       "      <td>0.812</td>\n",
       "      <td>0.326</td>\n",
       "    </tr>\n",
       "  </tbody>\n",
       "</table>\n",
       "</div>"
      ],
      "text/plain": [
       "    model                                            comment    TPR    FPR\n",
       "5   NBC_b      Modele na ustawieniach fabrycznych po bagging  0.700  0.161\n",
       "5     NBC                 Modele na ustawieniach fabrycznych  0.750  0.173\n",
       "5    NBC3   Modele na ustawieniach fabrycznych po kalibracji  0.762  0.196\n",
       "5  NBC_b4  Modele na ustawieniach fabrycznych po bagging ...  0.762  0.198\n",
       "0  SVM_b4  Modele na ustawieniach fabrycznych po bagging ...  0.750  0.221\n",
       "0    SVM3   Modele na ustawieniach fabrycznych po kalibracji  0.762  0.228\n",
       "0     SVM                 Modele na ustawieniach fabrycznych  0.762  0.231\n",
       "0   SVM_b      Modele na ustawieniach fabrycznych po bagging  0.750  0.242\n",
       "6  LRE_b4  Modele na ustawieniach fabrycznych po bagging ...  0.750  0.278\n",
       "6    LRE3   Modele na ustawieniach fabrycznych po kalibracji  0.675  0.285\n",
       "6   LRE_b      Modele na ustawieniach fabrycznych po bagging  0.812  0.326"
      ]
     },
     "execution_count": 25,
     "metadata": {},
     "output_type": "execute_result"
    }
   ],
   "source": [
    "from simple_colors import *\n",
    "\n",
    "print(red('False_Positive_Rate','bold'),red('procentowy udział ludzi zdrowych uznanych przez model za chorych w populacji ludzi zdrowych','italic'))\n",
    "print(red('True_Positive_Rate RECALL','bold'), red('procentowy udział chorych dobrze zdiagnozowanych w populacji ludzi chorych ogółem','italic'))\n",
    "print(black('False_Negative_Rate','bold'), black('procentowy udział niewykrytych chorych w populacji ludzi chorych ogółem','italic'))\n",
    "print(black('Specifity','bold'), black('procentowy udział ludzi zdrowych uznanych za zdrowych w populacji ludzi zdrowych','italic'))\n",
    "#Valuator[['model','comment','TPR','FPR']]\n",
    "best = Valuator[(Valuator.TPR>0.55) &(Valuator.FPR<0.40)]\n",
    "best[['model','comment','TPR','FPR']]"
   ]
  },
  {
   "cell_type": "code",
   "execution_count": 26,
   "metadata": {},
   "outputs": [
    {
     "data": {
      "text/plain": [
       "['NBC_b', 'NBC', 'NBC3', 'NBC_b4', 'SVM_b4', 'SVM3', 'SVM', 'SVM_b', 'LRE_b4']"
      ]
     },
     "execution_count": 26,
     "metadata": {},
     "output_type": "execute_result"
    }
   ],
   "source": [
    "best['model'].head(9).to_list()"
   ]
  },
  {
   "cell_type": "markdown",
   "metadata": {},
   "source": [
    "## <div class=\"alert-danger\"> Wybieramy manualnie modele do walidacji - musi być 9 modeli!"
   ]
  },
  {
   "cell_type": "code",
   "execution_count": 27,
   "metadata": {},
   "outputs": [],
   "source": [
    "clasifier_VAL = [NBC_b, NBC, NBC3, NBC_b4, SVM_b4, SVM3, SVM, SVM_b, LRE_b4]\n",
    "name_VAL = ['NBC_b', 'NBC', 'NBC3', 'NBC_b4', 'SVM_b4', 'SVM3', 'SVM', 'SVM_b', 'LRE_b4']"
   ]
  },
  {
   "cell_type": "markdown",
   "metadata": {},
   "source": [
    "## <span style=\"font-size: 150%;color:#6fa8dc;background:#cfe2f3\">Models Valuation"
   ]
  },
  {
   "cell_type": "code",
   "execution_count": 28,
   "metadata": {},
   "outputs": [],
   "source": [
    "def Type_error(six_classifiers,name, X_train, y_train,X_test,y_test,calibration=True):\n",
    "\n",
    "    \n",
    "    from sklearn.datasets import make_classification\n",
    "    from sklearn.calibration import CalibratedClassifierCV, calibration_curve\n",
    "    from sklearn.metrics import confusion_matrix\n",
    "    \n",
    "    from sklearn import metrics\n",
    "    import simple_colors\n",
    "    import time   \n",
    "    \n",
    "    start_time = time.time()\n",
    "    \n",
    "    #for cls in six_classifiers:\n",
    "    #    cls.fit(X_train, y_train)    \n",
    "    \n",
    "    FPR = ['False_Positive_Rate:']\n",
    "    TPR = ['True_Positive_Rate: ']\n",
    "    FNR = ['False_Negative_Rate: ']\n",
    "    SPEC = ['Specifity']\n",
    "    \n",
    "    CAL_FPR = ['CAL_False_Positive_Rate:']\n",
    "    CAL_TPR = ['CAL_True_Positive_Rate: ']\n",
    "    CAL_FNR = ['CAL_False_Negative_Rate: ']\n",
    "    CAL_SPEC = ['CAL_Specifity']\n",
    "\n",
    "    def compute_metric(model):\n",
    "        \n",
    "        \n",
    "        \n",
    "        cm = confusion_matrix(y_test, model.predict(X_test))\n",
    "        tn, fp, fn, tp = cm.ravel()\n",
    "        # print('tn: ',tn)\n",
    "        # print('fp: ',fp)\n",
    "        # print('fn: ',fn)\n",
    "        # print('tp: ',tp)\n",
    "        # print('------------------')\n",
    "        # print(cm) \n",
    "        \n",
    "\n",
    "        FPR = np.round(fp/(fp + tn),decimals=3)\n",
    "        TPR = np.round(tp/(tp + fn),decimals=3)\n",
    "        FNR = np.round(fn/(tp + fn),decimals=3)\n",
    "        SPEC = np.round(tn/(tn + fp),decimals=3)\n",
    "\n",
    "        return FPR,TPR,FNR,SPEC\n",
    "\n",
    "    for cls in six_classifiers:      \n",
    "        \n",
    "        results = compute_metric(cls)\n",
    "        FPR.append(red(results[0],'bold'))\n",
    "        TPR.append(red(results[1],'bold'))\n",
    "        FNR.append(results[2])\n",
    "        SPEC.append(results[3])\n",
    "\n",
    "    t = PrettyTable(['Name', name[0],name[1],name[2],name[3],name[4],name[5],name[6],name[7],name[8]])\n",
    "    t.add_row(FPR)\n",
    "    t.add_row(TPR)\n",
    "    t.add_row(FNR)\n",
    "    t.add_row(SPEC)\n",
    "\n",
    "    print(blue('Models before calibration','bold'))\n",
    "    g = (time.time() - start_time)\n",
    "    g = np.round(g)\n",
    "    print('time: %s seconds' % g)\n",
    "    print(t)\n",
    "  ## --------------------------------------------------  \n",
    "    \n",
    "    if calibration != True:\n",
    "        print()\n",
    "    else:    \n",
    "        print(blue('Models after calibration','bold'))\n",
    "  \n",
    "        start_time = time.time()\n",
    "    \n",
    "        def calibration(model):\n",
    "        \n",
    "            calibrated = CalibratedClassifierCV(model, method='sigmoid', cv=5)\n",
    "            calibrated.fit(X_train, y_train)\n",
    "        \n",
    "            ck = confusion_matrix(y_test, calibrated.predict(X_test))\n",
    "            tn_c, fp_c, fn_c, tp_c = ck.ravel()\n",
    "            # print('tn: ',tn)\n",
    "            # print('fp: ',fp)\n",
    "            # print('fn: ',fn)\n",
    "            # print('tp: ',tp)\n",
    "            # print('------------------')\n",
    "            # print(cm) \n",
    "        \n",
    "\n",
    "            CAL_FPR = np.round(fp_c/(fp_c + tn_c),decimals=3)\n",
    "            CAL_TPR = np.round(tp_c/(tp_c + fn_c),decimals=3)\n",
    "            CAL_FNR = np.round(fn_c/(tp_c + fn_c),decimals=3)\n",
    "            CAL_SPEC = np.round(tn_c/(tn_c + fp_c),decimals=3)\n",
    "\n",
    "            return CAL_FPR, CAL_TPR, CAL_FNR, CAL_SPEC\n",
    "\n",
    "        for cls in six_classifiers:      \n",
    "        \n",
    "            results = calibration(cls)\n",
    "            CAL_FPR.append(red(results[0],'bold'))\n",
    "            CAL_TPR.append(red(results[1],'bold'))\n",
    "            CAL_FNR.append(results[2])\n",
    "            CAL_SPEC.append(results[3])\n",
    "\n",
    "        k = PrettyTable(['Name', name[0],name[1],name[2],name[3],name[4],name[5],name[6],name[7],name[8]])\n",
    "        k.add_row(CAL_FPR)\n",
    "        k.add_row(CAL_TPR)\n",
    "        k.add_row(CAL_FNR)\n",
    "        k.add_row(CAL_SPEC)\n",
    "    \n",
    "    \n",
    "        n = (time.time() - start_time)\n",
    "        n = np.round(n)\n",
    "        print('time: %s seconds' % n)\n",
    "        print(k)\n",
    "    \n",
    "    \n",
    "    print(red('False_Positive_Rate','bold'),red('procentowy udział ludzi zdrowych uznanych przez model za chorych w populacji ludzi zdrowych','italic'))\n",
    "    print(red('True_Positive_Rate RECALL','bold'), red('procentowy udział chorych dobrze zdiagnozowanych w populacji ludzi chorych ogółem','italic'))\n",
    "    print(black('False_Negative_Rate','bold'), black('procentowy udział niewykrytych chorych w populacji ludzi chorych ogółem','italic'))\n",
    "    print(black('Specifity','bold'), black('procentowy udział ludzi zdrowych uznanych za zdrowych w populacji ludzi zdrowych','italic'))"
   ]
  },
  {
   "cell_type": "code",
   "execution_count": 29,
   "metadata": {},
   "outputs": [
    {
     "name": "stdout",
     "output_type": "stream",
     "text": [
      "\u001b[1;34mModels before calibration\u001b[0m\n",
      "time: 11.0 seconds\n",
      "+-----------------------+-------+-------+-------+--------+--------+-------+-------+-------+--------+\n",
      "|          Name         | NBC_b |  NBC  |  NBC3 | NBC_b4 | SVM_b4 |  SVM3 |  SVM  | SVM_b | LRE_b4 |\n",
      "+-----------------------+-------+-------+-------+--------+--------+-------+-------+-------+--------+\n",
      "|  False_Positive_Rate: | \u001b[1;31m0.161\u001b[0m | \u001b[1;31m0.173\u001b[0m | \u001b[1;31m0.196\u001b[0m | \u001b[1;31m0.198\u001b[0m  | \u001b[1;31m0.221\u001b[0m  | \u001b[1;31m0.228\u001b[0m | \u001b[1;31m0.231\u001b[0m | \u001b[1;31m0.242\u001b[0m | \u001b[1;31m0.278\u001b[0m  |\n",
      "|  True_Positive_Rate:  |  \u001b[1;31m0.7\u001b[0m  |  \u001b[1;31m0.75\u001b[0m | \u001b[1;31m0.762\u001b[0m | \u001b[1;31m0.762\u001b[0m  |  \u001b[1;31m0.75\u001b[0m  | \u001b[1;31m0.762\u001b[0m | \u001b[1;31m0.762\u001b[0m |  \u001b[1;31m0.75\u001b[0m |  \u001b[1;31m0.75\u001b[0m  |\n",
      "| False_Negative_Rate:  |  0.3  |  0.25 | 0.238 | 0.238  |  0.25  | 0.238 | 0.238 |  0.25 |  0.25  |\n",
      "|       Specifity       | 0.839 | 0.827 | 0.804 | 0.802  | 0.779  | 0.772 | 0.769 | 0.758 | 0.722  |\n",
      "+-----------------------+-------+-------+-------+--------+--------+-------+-------+-------+--------+\n",
      "\n",
      "\u001b[1;31mFalse_Positive_Rate\u001b[0m \u001b[3;31mprocentowy udział ludzi zdrowych uznanych przez model za chorych w populacji ludzi zdrowych\u001b[0m\n",
      "\u001b[1;31mTrue_Positive_Rate RECALL\u001b[0m \u001b[3;31mprocentowy udział chorych dobrze zdiagnozowanych w populacji ludzi chorych ogółem\u001b[0m\n",
      "\u001b[1;30mFalse_Negative_Rate\u001b[0m \u001b[3;30mprocentowy udział niewykrytych chorych w populacji ludzi chorych ogółem\u001b[0m\n",
      "\u001b[1;30mSpecifity\u001b[0m \u001b[3;30mprocentowy udział ludzi zdrowych uznanych za zdrowych w populacji ludzi zdrowych\u001b[0m\n"
     ]
    }
   ],
   "source": [
    "Type_error(clasifier_VAL,name_VAL,X_train, y_train,X_test,y_test,calibration=False)"
   ]
  },
  {
   "cell_type": "markdown",
   "metadata": {},
   "source": [
    "## <span style=\"font-size: 150%;color:#6fa8dc;background:#cfe2f3\">Binary Classficators Plots  "
   ]
  },
  {
   "cell_type": "code",
   "execution_count": 30,
   "metadata": {},
   "outputs": [],
   "source": [
    "def BinaryClassPlot(six_classifiers,name, X_train, y_train,X_test,y_test,calibration=True):\n",
    "    \n",
    "    import time\n",
    "    from sklearn.calibration import CalibratedClassifierCV, calibration_curve\n",
    "    from matplotlib import rcParams      ## Robie odstęp na podtytuł\n",
    "    rcParams['axes.titlepad'] = 20 \n",
    "    \n",
    "    start_time = time.time()\n",
    "    \n",
    "    from plot_metric.functions import BinaryClassification\n",
    "\n",
    "    #for cls in six_classifiers:\n",
    "    #    cls.fit(X_train, y_train) \n",
    "       \n",
    "    plt.figure(figsize=(15,10))\n",
    "    grid = plt.GridSpec(3, 3, wspace=0.3, hspace=0.5)\n",
    "        \n",
    "    for i in range(9):\n",
    "        col, row = i%3,i//3\n",
    "        ax = plt.subplot(grid[row,col]) \n",
    "        ax.title.set_color('blue')\n",
    "            \n",
    "        model = six_classifiers[i]\n",
    "        bc = BinaryClassification(y_test, model.predict_proba(X_test)[:,1], labels=[\"Class 1\", \"Class 2\"])\n",
    "        bc.plot_roc_curve(title=type(six_classifiers[i]).__name__)\n",
    "        ax.text(0.0, 1.09, 'before calibration',color='black', fontsize=10) \n",
    "        ax.text(0.5, 1.09, name[i],fontsize=10)    ## podtytuł\n",
    "\n",
    " ### ------------------------------------------------------------------------------       \n",
    "    if calibration != True:\n",
    "        print()\n",
    "    else:    \n",
    "           \n",
    "        #for cls in six_classifiers:\n",
    "        #    cls.fit(X_train, y_train)\n",
    "                            \n",
    "        plt.figure(figsize=(15,10))\n",
    "        grid = plt.GridSpec(3, 3, wspace=0.3, hspace=0.5)\n",
    "\n",
    "        for i in range(9):\n",
    "            col, row = i%3,i//3\n",
    "            ax = plt.subplot(grid[row,col]) \n",
    "            ax.title.set_color('blue')\n",
    "            \n",
    "            model = six_classifiers[i]\n",
    "            calibrated = CalibratedClassifierCV(model, method='sigmoid', cv=5)\n",
    "            calibrated.fit(X_train, y_train)        \n",
    "                \n",
    "            bc = BinaryClassification(y_test, calibrated.predict_proba(X_test)[:,1], labels=[\"Class 1\", \"Class 2\"])\n",
    "            bc.plot_roc_curve(title=type(six_classifiers[i]).__name__)\n",
    "            ax.text(0.0, 1.09, 'after calibration',color='red', fontsize=10)    ## podtytuł     \n",
    "            ax.text(0.5, 1.09, name[i],fontsize=10)    ## podtytuł   \n",
    "        \n",
    "        \n",
    "        n = (time.time() - start_time)\n",
    "        n = np.round(n)\n",
    "        print('time: %s seconds' % n)    "
   ]
  },
  {
   "cell_type": "code",
   "execution_count": 31,
   "metadata": {},
   "outputs": [
    {
     "name": "stdout",
     "output_type": "stream",
     "text": [
      "\n"
     ]
    },
    {
     "data": {
      "image/png": "[encoded data removed]",
      "text/plain": [
       "<Figure size 1080x720 with 9 Axes>"
      ]
     },
     "metadata": {
      "needs_background": "light"
     },
     "output_type": "display_data"
    }
   ],
   "source": [
    "BinaryClassPlot(clasifier_VAL,name_VAL,X_train, y_train,X_test,y_test,calibration=False)"
   ]
  },
  {
   "cell_type": "markdown",
   "metadata": {},
   "source": [
    "## <span style=\"font-size: 150%;color:#6fa8dc;background:#cfe2f3\"> ROC AUC plots"
   ]
  },
  {
   "cell_type": "code",
   "execution_count": 32,
   "metadata": {},
   "outputs": [],
   "source": [
    "def plot_roc(six_classifiers,name, X_train, y_train,X_test,y_test,calibration=True):\n",
    "    \n",
    "    import time\n",
    "    from sklearn.calibration import CalibratedClassifierCV, calibration_curve\n",
    "    from matplotlib import rcParams      ## Robie odstęp na podtytuł\n",
    "    rcParams['axes.titlepad'] = 20 \n",
    "    \n",
    "    import scikitplot as skplt\n",
    "    \n",
    "    start_time = time.time()\n",
    "    \n",
    "    plt.figure(figsize=(15,10))\n",
    "    grid = plt.GridSpec(3, 3, wspace=0.3, hspace=0.5)\n",
    "\n",
    "    #for cls in six_classifiers:\n",
    "    #    cls.fit(X_train, y_train)\n",
    "\n",
    "    for i in range(9):\n",
    "\n",
    "        col, row = i%3,i//3\n",
    "        ax = plt.subplot(grid[row,col]) \n",
    "        ax.title.set_color('blue')\n",
    "\n",
    "        model = six_classifiers[i]\n",
    "        skplt.metrics.plot_roc(y_test, model.predict_proba(X_test), ax=ax, title=type(six_classifiers[i]).__name__)\n",
    "        ax.text(0.5, 1.09, name[i],fontsize=10)    ## podtytuł\n",
    "        ax.text(0.0, 1.09, 'before calibration',color='black', fontsize=10)\n",
    "## ---------------------------------------------------------------------------------------------------\n",
    "    \n",
    "    if calibration != True:\n",
    "        print()\n",
    "    else:    \n",
    "    \n",
    "    \n",
    "        plt.figure(figsize=(15,10))\n",
    "        grid = plt.GridSpec(3, 3, wspace=0.3, hspace=0.5)\n",
    "    \n",
    "    \n",
    "        #for cls in six_classifiers:\n",
    "        #    cls.fit(X_train, y_train)\n",
    "\n",
    "        for i in range(9):\n",
    "\n",
    "            col, row = i%3,i//3\n",
    "            ax = plt.subplot(grid[row,col]) \n",
    "            ax.title.set_color('blue')\n",
    "\n",
    "            model = six_classifiers[i]\n",
    "            calibrated = CalibratedClassifierCV(model, method='sigmoid', cv=5)\n",
    "            calibrated.fit(X_train, y_train)        \n",
    "        \n",
    "            skplt.metrics.plot_roc(y_test, calibrated.predict_proba(X_test), ax=ax, title=type(six_classifiers[i]).__name__)\n",
    "            ax.text(0.5, 1.09, name[i],fontsize=10)    ## podtytuł\n",
    "            ax.text(0.0, 1.09, 'after calibration',color='red', fontsize=10)    ## podtytuł  \n",
    "    \n",
    "    n = (time.time() - start_time)\n",
    "    n = np.round(n)\n",
    "    print('time: %s seconds' % n)    "
   ]
  },
  {
   "cell_type": "code",
   "execution_count": null,
   "metadata": {},
   "outputs": [],
   "source": [
    "plot_roc(clasifier_VAL,name_VAL,X_train, y_train,X_test,y_test,calibration=False)"
   ]
  },
  {
   "cell_type": "markdown",
   "metadata": {},
   "source": [
    "W tym teście szczególnie waża jest różnica pomiedzy <span style=\"background:#ff00ff\"> krzywą micro-average ROC pokazaną na różowo</span> oraz <span style=\"color:#0000ff\"> krzywą macro-average ROC pokazana na granatowo</span>.\n",
    "Idealnie gdy obie krzywe się pokrywają. Zbilansowanie klas prze oversampling poprawiło w wielu medelach spójność obu krzywych, w niektórych jednak pozostały duże różnice.\n",
    "\n",
    "Jeżeli: \n",
    "\n",
    "<span style=\"font-size: 150%;color:#0000ff\">macro average ROC</span><span style=\"font-size: 250%\"> > </span> <span style=\"font-size: 150%;background:#ff00ff\">micro average ROC</span> \n",
    "wtedy mówimy, że: \"1 (minority) is better classified than 0 (majority) - macro > micro\"\n",
    "\n",
    "Jeżeli:\n",
    "\n",
    "<span style=\"font-size: 150%;color:#0000ff\">macro average ROC</span><span style=\"font-size: 250%\"> < </span> <span style=\"font-size: 150%;background:#ff00ff\">micro average ROC</span> \n",
    "wtedy mówimy, że: '0 (majority) is better classified than 1 (minority)- micro < macro'\n",
    "\n",
    "\n",
    "Idealnie gdy krzywe micro i macro pokrywają się ze sobą. Taka sytuacja ma miejsce po oversampling w GaussianNB oraz GradientBoostingClassifier.\n"
   ]
  },
  {
   "cell_type": "markdown",
   "metadata": {},
   "source": [
    "## <span style=\"font-size: 150%;color:#6fa8dc;background:#cfe2f3\">Confusion matrix"
   ]
  },
  {
   "cell_type": "code",
   "execution_count": null,
   "metadata": {},
   "outputs": [],
   "source": [
    "def confusion_matrix(six_classifiers,name, X_train, y_train,X_test,y_test,calibration=True):\n",
    "    \n",
    "    from matplotlib import rcParams\n",
    "    rcParams['axes.titlepad'] = 20 \n",
    "    \n",
    "    from sklearn.calibration import CalibratedClassifierCV, calibration_curve \n",
    "    from sklearn.metrics import plot_confusion_matrix\n",
    "    \n",
    "    #for cls in six_classifiers:\n",
    "    #    cls.fit(X_train, y_train) \n",
    "    \n",
    "    fig, axes = plt.subplots(nrows=3, ncols=3, figsize=(14,10))\n",
    "    target_names = ['0','1']\n",
    "\n",
    "\n",
    "    for t,cls, ax in zip(name, six_classifiers, axes.flatten()):\n",
    "        plot_confusion_matrix(cls, \n",
    "                              X_test, \n",
    "                              y_test, \n",
    "                              ax=ax, \n",
    "                              cmap='Blues',\n",
    "                             display_labels=target_names,values_format='')\n",
    "        ax.title.set_text(type(cls).__name__)\n",
    "        ax.title.set_color('blue')\n",
    "        ax.text(-0.5, -0.56, t,fontsize=12)\n",
    "        ax.text(-0.5, 1.40, 'before calibration',color='black', fontsize=10) \n",
    "        \n",
    "    plt.tight_layout()  \n",
    "    plt.show()\n",
    "    \n",
    "### ---------------------------------------------------\n",
    "    if calibration != True:\n",
    "        print()\n",
    "    else:    \n",
    "        print(blue('Models after calibration','bold'))\n",
    "\n",
    "    ### ---------------------------------------------------\n",
    "    \n",
    "    \n",
    "        for cls in six_classifiers:\n",
    "            calibrated = CalibratedClassifierCV(cls, method='sigmoid', cv=5)\n",
    "            calibrated.fit(X_train, y_train)\n",
    "    \n",
    "        fig, axes = plt.subplots(nrows=3, ncols=3, figsize=(14,10))\n",
    "        target_names = ['0','1']\n",
    "\n",
    "\n",
    "        for t,cls, ax in zip(name, six_classifiers, axes.flatten()):\n",
    "            plot_confusion_matrix(cls, \n",
    "                                  X_test, \n",
    "                                  y_test, \n",
    "                                  ax=ax, \n",
    "                                  cmap='Blues',\n",
    "                                 display_labels=target_names,values_format='')\n",
    "            ax.title.set_text(type(cls).__name__)\n",
    "            ax.title.set_color('blue')\n",
    "            ax.text(-0.5, -0.56, t,fontsize=12)\n",
    "            ax.text(-0.5, 1.40, 'after calibration',color='red', fontsize=10)    ## podtytuł     \n"
   ]
  },
  {
   "cell_type": "code",
   "execution_count": null,
   "metadata": {},
   "outputs": [],
   "source": [
    "confusion_matrix(clasifier_VAL,name_VAL,X_train, y_train,X_test,y_test,calibration=False)"
   ]
  },
  {
   "cell_type": "markdown",
   "metadata": {},
   "source": [
    "## <span style=\"font-size: 150%;color:#6fa8dc;background:#cfe2f3\">Recall - Precision!"
   ]
  },
  {
   "cell_type": "code",
   "execution_count": null,
   "metadata": {},
   "outputs": [],
   "source": [
    "def Recall_Precision(six_classifiers,name, X_train, y_train,X_test,y_test,calibration=True):\n",
    "\n",
    "    from sklearn.datasets import make_classification\n",
    "    from sklearn.calibration import CalibratedClassifierCV, calibration_curve  \n",
    "    \n",
    "    import numpy as np\n",
    "    import matplotlib.pyplot as plt\n",
    "    from sklearn import metrics\n",
    "    from sklearn.metrics import classification_report, confusion_matrix\n",
    "    from sklearn.metrics import confusion_matrix, log_loss, auc, roc_curve, roc_auc_score, recall_score, precision_recall_curve\n",
    "    from sklearn.metrics import make_scorer, precision_score, fbeta_score, f1_score, classification_report\n",
    "    from sklearn.metrics import accuracy_score\n",
    "    from mlxtend.plotting import plot_learning_curves\n",
    "    from prettytable import PrettyTable\n",
    "    import time   \n",
    "    \n",
    "    start_time = time.time()\n",
    "    \n",
    "    #for cls in six_classifiers:\n",
    "    #    cls.fit(X_train, y_train)\n",
    "      \n",
    "    \n",
    "    Recall_Training = ['Recall Training: ']\n",
    "    Precision_Training = ['Precision Training: ']\n",
    "    Recall_Test= ['Recall Test: ']\n",
    "    Precision_Test = ['Precision Test: ']\n",
    "    \n",
    "    CAL_Recall_Training = ['CAL_Recall Training: ']\n",
    "    CAL_Precision_Training = ['CAL_Precision Training: ']\n",
    "    CAL_Recall_Test= ['CAL_Recall Test: ']\n",
    "    CAL_Precision_Test = ['CAL_Precision Test: ']   \n",
    "\n",
    "    def compute_metric2(model):\n",
    "\n",
    "        Recall_Training = np.round(recall_score(y_train, model.predict(X_train)), decimals=3)\n",
    "        Precision_Training = np.round(precision_score(y_train, model.predict(X_train)), decimals=3)\n",
    "        Recall_Test = np.round(recall_score(y_test, model.predict(X_test)), decimals=3) \n",
    "        Precision_Test = np.round(precision_score(y_test, model.predict(X_test)), decimals=3)\n",
    "        \n",
    "        return Recall_Training, Precision_Training, Recall_Test, Precision_Test\n",
    "    \n",
    "    for cls in six_classifiers:\n",
    "\n",
    "        results = compute_metric2(cls)\n",
    "        Recall_Training.append(results[0])\n",
    "        Precision_Training.append(results[1])\n",
    "        Recall_Test.append(blue(results[2],'bold'))\n",
    "        Precision_Test.append((blue(results[3],'bold')))\n",
    "   \n",
    "    \n",
    "    t = PrettyTable(['Name', name[0],name[1],name[2],name[3],name[4],name[5],name[6],name[7],name[8]])\n",
    "    t.add_row(Recall_Training)\n",
    "    t.add_row(Precision_Training)\n",
    "    t.add_row(Recall_Test)\n",
    "    t.add_row(Precision_Test)\n",
    "\n",
    "    \n",
    "    print(blue('Models before calibration','bold'))\n",
    "    g = (time.time() - start_time)\n",
    "    g = np.round(g)\n",
    "    print('time: %s seconds' % g)\n",
    "    print(t)\n",
    "    \n",
    "  ### ---------------------------------------------------------  \n",
    "    \n",
    "    \n",
    "    if calibration != True:\n",
    "        print()\n",
    "    else:    \n",
    "        print(blue('Models after calibration','bold'))\n",
    "\n",
    "            \n",
    "        def calibration(model):\n",
    "        \n",
    "            calibrated = CalibratedClassifierCV(model, method='sigmoid', cv=5)\n",
    "            calibrated.fit(X_train, y_train)\n",
    "       \n",
    "            \n",
    "        \n",
    "            CAL_Recall_Training = np.round(recall_score(y_train, calibrated.predict(X_train)), decimals=3)\n",
    "            CAL_Precision_Training = np.round(precision_score(y_train, calibrated.predict(X_train)), decimals=3)\n",
    "            CAL_Recall_Test = np.round(recall_score(y_test, calibrated.predict(X_test)), decimals=3) \n",
    "            CAL_Precision_Test = np.round(precision_score(y_test, calibrated.predict(X_test)), decimals=3)\n",
    "        \n",
    "            return CAL_Recall_Training, CAL_Precision_Training, CAL_Recall_Test, CAL_Precision_Test \n",
    "    \n",
    "        start_time = time.time()\n",
    "    \n",
    "        for cls in six_classifiers:\n",
    "\n",
    "            results = calibration(cls)\n",
    "            CAL_Recall_Training.append(results[0])\n",
    "            CAL_Precision_Training.append(results[1])\n",
    "            CAL_Recall_Test.append(blue(results[2],'bold'))\n",
    "            CAL_Precision_Test.append((blue(results[3],'bold')))\n",
    "   \n",
    "        k = PrettyTable(['Name', name[0],name[1],name[2],name[3],name[4],name[5],name[6],name[7],name[8]])\n",
    "        k.add_row(CAL_Recall_Training)\n",
    "        k.add_row(CAL_Precision_Training)\n",
    "        k.add_row(CAL_Recall_Test)\n",
    "        k.add_row(CAL_Precision_Test)   \n",
    "    \n",
    "    \n",
    "        n = (time.time() - start_time)\n",
    "        n = np.round(n)\n",
    "        print('time: %s seconds' % n)\n",
    "        print(k)\n",
    "    print(blue('Wskaźniki pokazują RECALL i PRECISION dla klasy 1','bold'))\n",
    "    print(blue('RECALL', 'bold'), blue('procentowy udział chorych dobrze zdiagnozowanych wśród wszystkich ludzi chorych','italic'))\n",
    "    print(blue('PRECISION', 'bold'), blue('procentowy udział chorych dobrze zdiagnozowanych w populacji ludzi zdiagnozowanych fałszywie (zdrowych uznanych przez model za chorych) i dobrze zdiagnozowanych (chorych uznanych przez model za chorych)','italic'))"
   ]
  },
  {
   "cell_type": "code",
   "execution_count": null,
   "metadata": {},
   "outputs": [],
   "source": [
    "Recall_Precision(clasifier_VAL,name_VAL,X_train, y_train,X_test,y_test,calibration=False)"
   ]
  },
  {
   "cell_type": "markdown",
   "metadata": {},
   "source": [
    "## <span style=\"font-size: 150%;color:#6fa8dc;background:#cfe2f3\">Classification score"
   ]
  },
  {
   "cell_type": "code",
   "execution_count": null,
   "metadata": {},
   "outputs": [],
   "source": [
    "def classification_score(six_classifiers,name, X_train, y_train,X_test,y_test,calibration=True):\n",
    "\n",
    "    from sklearn.datasets import make_classification\n",
    "    from sklearn.calibration import CalibratedClassifierCV, calibration_curve   \n",
    "    from sklearn.metrics import precision_recall_fscore_support as score\n",
    "    import time   \n",
    "    \n",
    "    start_time = time.time()\n",
    "\n",
    "    Precision_0 = ['Precision_0: ']\n",
    "    Precision_1 = ['Precision_1: ']\n",
    "    Recall_0 = ['Recall_0: ']\n",
    "    Recall_1 = ['Recall_1: ']\n",
    "    f1_score_0 = ['f1-score_0: ']\n",
    "    f1_score_1 = ['f1-score_1: ']\n",
    "    Support_0 = ['Support_0: ']\n",
    "    Support_1 = ['Support_1: ']\n",
    "    \n",
    "    \n",
    "    CAL_Precision_0 = ['CAL_Precision_0: ']\n",
    "    CAL_Precision_1 = ['CAL_Precision_1: ']\n",
    "    CAL_Recall_0 = ['CAL_Recall_0: ']\n",
    "    CAL_Recall_1 = ['CAL_Recall_1: ']\n",
    "    CAL_f1_score_0 = ['CAL_f1-score_0: ']\n",
    "    CAL_f1_score_1 = ['CAL_f1-score_1: ']\n",
    "    CAL_Support_0 = ['CAL_Support_0: ']\n",
    "    CAL_Support_1 = ['CAL_Support_1: ']\n",
    "\n",
    "    #for cls in six_classifiers:\n",
    "    #    cls.fit(X_train, y_train)\n",
    "        \n",
    "    \n",
    "    def compute_metric4(model):\n",
    "\n",
    "        precision, recall, fscore, support = score(y_test, model.predict(X_test))\n",
    "    \n",
    "        Precision_0 = np.round(precision[:1],decimals=3).item()\n",
    "        Precision_1 = np.round(precision[1:],decimals=3).item()\n",
    "        Recall_0 = np.round(recall[:1],decimals=3).item()\n",
    "        Recall_1 = np.round(recall[1:],decimals=3).item()\n",
    "        f1_score_0 = np.round(fscore[:1],decimals=3).item()\n",
    "        f1_score_1 = np.round(fscore[1:],decimals=3).item()\n",
    "        Support_0 = np.round(support[:1],decimals=3).item()\n",
    "        Support_1 = np.round(support[1:],decimals=3).item()\n",
    "        \n",
    "        return Precision_0, Precision_1, Recall_0, Recall_1, f1_score_0, f1_score_1, Support_0, Support_1\n",
    "\n",
    "    for cls in six_classifiers:\n",
    "\n",
    "        results = compute_metric4(cls)\n",
    "        Precision_0.append(results[0])\n",
    "        Precision_1.append(blue(results[1],'bold'))\n",
    "        Recall_0.append(results[2])\n",
    "        Recall_1.append(blue(results[3],'bold'))\n",
    "        f1_score_0.append(results[4])\n",
    "        f1_score_1.append(blue(results[5],'bold'))\n",
    "        Support_0.append(results[6])\n",
    "        Support_1.append(blue(results[7],'bold'))\n",
    "         \n",
    "\n",
    "    t = PrettyTable(['Name', name[0],name[1],name[2],name[3],name[4],name[5],name[6],name[7],name[8]])\n",
    "    t.add_row(Precision_0)\n",
    "    t.add_row(Precision_1)\n",
    "    t.add_row(Recall_0)\n",
    "    t.add_row(Recall_1)\n",
    "    t.add_row(f1_score_0)\n",
    "    t.add_row(f1_score_1)\n",
    "    t.add_row(Support_0)\n",
    "    t.add_row(Support_1)\n",
    "\n",
    "\n",
    "    print(blue('Models before calibration','bold'))\n",
    "    g = (time.time() - start_time)\n",
    "    g = np.round(g)\n",
    "    print('time: %s seconds' % g)\n",
    "    print(t)\n",
    "    \n",
    "   ## ------------------------------------------\n",
    "\n",
    "    if calibration != True:\n",
    "        print()\n",
    "    else:    \n",
    "        print(blue('Models after calibration','bold'))\n",
    "  \n",
    "        start_time = time.time()\n",
    "    \n",
    "        def calibration(model):\n",
    "        \n",
    "            calibrated = CalibratedClassifierCV(model, method='sigmoid', cv=5)\n",
    "            calibrated.fit(X_train, y_train)\n",
    "            precision, recall, fscore, support = score(y_test, calibrated.predict(X_test))\n",
    "                \n",
    "            CAL_Precision_0 = np.round(precision[:1],decimals=3).item()\n",
    "            CAL_Precision_1 = np.round(precision[1:],decimals=3).item()\n",
    "            CAL_Recall_0 = np.round(recall[:1],decimals=3).item()\n",
    "            CAL_Recall_1 = np.round(recall[1:],decimals=3).item()\n",
    "            CAL_f1_score_0 = np.round(fscore[:1],decimals=3).item()\n",
    "            CAL_f1_score_1 = np.round(fscore[1:],decimals=3).item()\n",
    "            CAL_Support_0 = np.round(support[:1],decimals=3).item()\n",
    "            CAL_Support_1 = np.round(support[1:],decimals=3).item()\n",
    "        \n",
    "            return CAL_Precision_0, CAL_Precision_1, CAL_Recall_0, CAL_Recall_1, CAL_f1_score_0, CAL_f1_score_1, CAL_Support_0, CAL_Support_1\n",
    "    \n",
    "        for cls in six_classifiers:\n",
    "\n",
    "            results = calibration(cls)\n",
    "            CAL_Precision_0.append(results[0])\n",
    "            CAL_Precision_1.append(blue(results[1],'bold'))\n",
    "            CAL_Recall_0.append(results[2])\n",
    "            CAL_Recall_1.append(blue(results[3],'bold'))\n",
    "            CAL_f1_score_0.append(results[4])\n",
    "            CAL_f1_score_1.append(blue(results[5],'bold'))\n",
    "            CAL_Support_0.append(results[6])\n",
    "            CAL_Support_1.append(blue(results[7],'bold'))\n",
    "   \n",
    "        k = PrettyTable(['Name', name[0],name[1],name[2],name[3],name[4],name[5],name[6],name[7],name[8]])\n",
    "        k.add_row(CAL_Precision_0)\n",
    "        k.add_row(CAL_Precision_1)\n",
    "        k.add_row(CAL_Recall_0)\n",
    "        k.add_row(CAL_Recall_1)\n",
    "        k.add_row(CAL_f1_score_0)\n",
    "        k.add_row(CAL_f1_score_1)\n",
    "        k.add_row(CAL_Support_0)\n",
    "        k.add_row(CAL_Support_1)\n",
    "    \n",
    "        n = (time.time() - start_time)\n",
    "        n = np.round(n)\n",
    "        print('time: %s seconds' % n)\n",
    "        print(k)\n",
    "    print(blue('RECALL', 'bold'), blue('procentowy udział chorych dobrze zdiagnozowanych wśród wszystkich ludzi chorych','italic'))\n",
    "    print(blue('PRECISION', 'bold'), blue('procentowy udział chorych dobrze zdiagnozowanych w populacji ludzi zdiagnozowanych fałszywie (zdrowych uznanych przez model za chorych) i dobrze zdiagnozowanych (chorych uznanych przez model za chorych)','italic')) \n",
    "    "
   ]
  },
  {
   "cell_type": "code",
   "execution_count": null,
   "metadata": {},
   "outputs": [],
   "source": [
    "classification_score(clasifier_VAL,name_VAL,X_train, y_train,X_test,y_test,calibration=False)"
   ]
  },
  {
   "cell_type": "code",
   "execution_count": null,
   "metadata": {},
   "outputs": [],
   "source": [
    "stop"
   ]
  },
  {
   "cell_type": "markdown",
   "metadata": {},
   "source": [
    "## <span style=\"font-size: 150%;color:#6fa8dc;background:#cfe2f3\">AUC score"
   ]
  },
  {
   "cell_type": "code",
   "execution_count": null,
   "metadata": {},
   "outputs": [],
   "source": [
    "def AUC_score(six_classifiers,name, X_train, y_train,X_test,y_test,calibration=True):\n",
    "    \n",
    "    from sklearn.calibration import CalibratedClassifierCV, calibration_curve\n",
    "    from sklearn import metrics\n",
    "    import time   \n",
    "    \n",
    "    start_time = time.time()\n",
    "\n",
    "    #for cls in six_classifiers:\n",
    "    #    cls.fit(X_train, y_train)    \n",
    "    \n",
    "    AUC_train = ['AUC_train: ']\n",
    "    AUC_test = ['AUC_test: ']\n",
    "    CAL_AUC_train = ['AUC_train: ']\n",
    "    CAL_AUC_test = ['AUC_test: ']\n",
    "    \n",
    "    \n",
    "    def compute_metric(model):\n",
    "\n",
    "        auc_train = np.round(metrics.roc_auc_score(y_train,model.predict_proba(X_train)[:,1]),decimals=3)\n",
    "        auc_test = np.round(metrics.roc_auc_score(y_test,model.predict_proba(X_test)[:,1]),decimals=3)\n",
    "\n",
    "        return auc_train, auc_test\n",
    "\n",
    "    for cls in six_classifiers:\n",
    "\n",
    "        results = compute_metric(cls)\n",
    "        AUC_train.append(results[0])\n",
    "        AUC_test.append(blue(results[1],'bold'))\n",
    "\n",
    "\n",
    "    t = PrettyTable(['Name', name[0],name[1],name[2],name[3],name[4],name[5],name[6],name[7],name[8]])\n",
    "    t.add_row(AUC_train)\n",
    "    t.add_row(AUC_test)\n",
    "    \n",
    "    \n",
    "    print(blue('Models before calibration','bold'))\n",
    "    g = (time.time() - start_time)\n",
    "    g = np.round(g)\n",
    "    print('time: %s secondS' % g)\n",
    "    print(t)\n",
    "    \n",
    "    if calibration != True:\n",
    "        print()\n",
    "    else:    \n",
    "        print(blue('Models after calibration','bold'))\n",
    "    \n",
    "        start_time = time.time()\n",
    "    \n",
    "        def calibration(model):\n",
    "        \n",
    "            calibrated = CalibratedClassifierCV(model, method='sigmoid', cv=5)\n",
    "            calibrated.fit(X_train, y_train)\n",
    "         \n",
    "            CAL_AUC_train = np.round(metrics.roc_auc_score(y_train,calibrated.predict_proba(X_train)[:,1]),decimals=3)\n",
    "            CAL_AUC_test = np.round(metrics.roc_auc_score(y_test,calibrated.predict_proba(X_test)[:,1]),decimals=3)\n",
    "\n",
    "            return CAL_AUC_train, CAL_AUC_test\n",
    "\n",
    "    \n",
    "        for cls in six_classifiers:\n",
    "\n",
    "            results = calibration(cls)\n",
    "            CAL_AUC_train.append(results[0])\n",
    "            CAL_AUC_test.append(blue(results[1],'bold'))\n",
    "       \n",
    "   \n",
    "        k = PrettyTable(['Name', name[0],name[1],name[2],name[3],name[4],name[5],name[6],name[7],name[8]])\n",
    "        k.add_row(CAL_AUC_train)\n",
    "        k.add_row(CAL_AUC_test)\n",
    "    \n",
    "        n = (time.time() - start_time)\n",
    "        n = np.round(n)\n",
    "        print('time: %s seconds' % n)    \n",
    "        print(k)\n",
    "    "
   ]
  },
  {
   "cell_type": "code",
   "execution_count": null,
   "metadata": {},
   "outputs": [],
   "source": [
    "AUC_score(clasifier_VAL,name_VAL,X_train, y_train,X_test,y_test,calibration=False)"
   ]
  },
  {
   "cell_type": "raw",
   "metadata": {},
   "source": [
    "def calibration_curve2(six_classifiers,name, X_train, y_train,X_test,y_test,calibration=False):\n",
    "    \n",
    "    from matplotlib import rcParams      ## Robie odstęp na podtytuł\n",
    "    rcParams['axes.titlepad'] = 20 \n",
    "    \n",
    "    import scikitplot as skplt\n",
    "    from sklearn.calibration import CalibratedClassifierCV, calibration_curve\n",
    "    \n",
    "    plt.figure(figsize=(15,10))\n",
    "    grid = plt.GridSpec(3, 3, wspace=0.3, hspace=0.5)\n",
    "\n",
    "    #for cls in six_classifiers:\n",
    "    #    cls.fit(X_train, y_train)\n",
    "\n",
    "    for i in range(9):\n",
    "\n",
    "        col, row = i%3,i//3\n",
    "        ax = plt.subplot(grid[row,col])\n",
    "        ax.title.set_color('blue')\n",
    "           \n",
    "        model = classifiers_A[i]\n",
    "        A_probas = model.fit(X_train, y_train).predict_proba(X_test)\n",
    "        probas_list = [A_probas]\n",
    "        \n",
    "        clf_names =  [name[i]]\n",
    "        \n",
    "        skplt.metrics.plot_calibration_curve(y_test,probas_list,clf_names,title=type(six_classifiers[i]).__name__,ax=ax)  \n",
    "        ax.text(0.5, 1.09, name[i],fontsize=10)    ## podtytuł\n",
    "        ax.text(0.0, 1.09, 'before calibration',color='black', fontsize=10)\n",
    "   ### -----------------------------------------------------------------------------------\n",
    "\n",
    "    if calibration != True:\n",
    "        print()\n",
    "    else:   \n",
    "        plt.figure(figsize=(15,10))\n",
    "        grid = plt.GridSpec(3, 3, wspace=0.3, hspace=0.5)\n",
    "\n",
    "        #for cls in six_classifiers:\n",
    "        #    cls.fit(X_train, y_train)\n",
    "\n",
    "        for i in range(9):\n",
    "\n",
    "            col, row = i%3,i//3\n",
    "            ax = plt.subplot(grid[row,col])\n",
    "            ax.title.set_color('blue')\n",
    "\n",
    "            model = classifiers_A[i]\n",
    "            calibrated = CalibratedClassifierCV(model, method='sigmoid', cv=5)\n",
    "            calibrated.fit(X_train, y_train) \n",
    "        \n",
    "            A_probas = calibrated.fit(X_train, y_train).predict_proba(X_test)\n",
    "            probas_list = [A_probas]\n",
    "        \n",
    "            clf_names =  [name[i]]\n",
    "        \n",
    "            skplt.metrics.plot_calibration_curve(y_test,probas_list,clf_names,title=type(six_classifiers[i]).__name__,ax=ax)  \n",
    "            ax.text(0.5, 1.09, name[i],fontsize=10)    ## podtytuł\n",
    "            ax.text(0.0, 1.09, 'after calibration',color='red', fontsize=10)    ## podtytuł "
   ]
  },
  {
   "cell_type": "raw",
   "metadata": {},
   "source": [
    "calibration_curve2(classifiers_A,nameA,X_train, y_train,X_test,y_test,calibration=False)"
   ]
  },
  {
   "cell_type": "raw",
   "metadata": {},
   "source": [
    "calibration_curve2(classifiers_B,nameB,X_train, y_train,X_test,y_test,calibration=False)"
   ]
  },
  {
   "cell_type": "raw",
   "metadata": {},
   "source": [
    "calibration_curve2(classifiers_F,nameF,X_train, y_train,X_test,y_test,calibration=False)"
   ]
  },
  {
   "cell_type": "markdown",
   "metadata": {},
   "source": [
    "\n",
    "## <span style=\"font-size: 150%;color:#6fa8dc;background:#cfe2f3\">Cohen Kappa Metric"
   ]
  },
  {
   "cell_type": "markdown",
   "metadata": {},
   "source": [
    "<font size=\"3\"> \n",
    "$ \\bbox[20px,border:1px solid red]\n",
    "{\n",
    " κ = \\displaystyle\\frac{(p_o - p_e)}{(1 - p_e)}=1-\\frac{1 - p_e}{1 - p_e}\n",
    "\\qquad   \n",
    "} $\n",
    "\n",
    "\n",
    "where: \n",
    "\n",
    "$ p_0 = \\displaystyle\\frac{(tn+𝑡𝑝)}{(tn+fp+fn+𝑡𝑝)}$\n",
    "\n",
    "$ p_{empire} = \\displaystyle\\frac{(tn+fp)}{(tn+fp+fn+𝑡𝑝)}\\times\\frac{(tn+fn)}{(tn+fp+fn+𝑡𝑝)}$\n",
    "\n",
    "$ p_{theory} = \\displaystyle\\frac{(fn+𝑡𝑝)}{(tn+fp+fn+𝑡𝑝)}\\times\\frac{(fp+𝑡𝑝)}{(tn+fp+fn+𝑡𝑝)}$\n",
    "\n",
    "\n",
    "$ p_e = p_{empire}+p_{theory}$\n",
    "\n"
   ]
  },
  {
   "cell_type": "code",
   "execution_count": null,
   "metadata": {},
   "outputs": [],
   "source": [
    "def Cohen_Kappa(six_classifiers,name, X_train, y_train,X_test,y_test,calibration=False):\n",
    "    \n",
    "    from sklearn.calibration import CalibratedClassifierCV, calibration_curve\n",
    "    from sklearn import metrics\n",
    "    import simple_colors\n",
    "    import time   \n",
    "    \n",
    "    start_time = time.time()\n",
    "    \n",
    "    κ = ['κ:']\n",
    "    p0 = ['p0:']\n",
    "    pe = ['pe:']\n",
    "    \n",
    "    κc = ['κ:']\n",
    "    p0c = ['p0:']\n",
    "    pec = ['pe:']    \n",
    "    \n",
    "    \n",
    "    \n",
    "    #for cls in six_classifiers:\n",
    "    #    cls.fit(X_train, y_train)    \n",
    "    \n",
    "    def compute_metric(model):\n",
    "        \n",
    "        from sklearn.metrics import confusion_matrix\n",
    "\n",
    "        #model.fit(X_train,y_train)\n",
    "        cm = confusion_matrix(y_test, model.predict(X_test))\n",
    "        tn, fp, fn, tp = cm.ravel()     \n",
    "        \n",
    "        p0 = (tn+𝑡𝑝)/(tn+fp+fn+𝑡𝑝)\n",
    "        P_empire = ((tn+fp)/(tn+fp+fn+𝑡𝑝))*((tn+fn)/(tn+fp+fn+𝑡𝑝))\n",
    "        P_theory = ((fn+𝑡𝑝)/(tn+fp+fn+𝑡𝑝))*((fp+𝑡𝑝)/(tn+fp+fn+𝑡𝑝))\n",
    "        pe = P_empire + P_theory\n",
    "        κ = (p0-pe)/(1-pe)\n",
    "        \n",
    "        κ = np.round(κ,decimals=3)\n",
    "        p0 = np.round(p0,decimals=3)\n",
    "        pe = np.round(pe,decimals=3)\n",
    "        \n",
    "        return κ,p0, pe\n",
    "\n",
    "    for cls in six_classifiers:\n",
    "        \n",
    "        results = compute_metric(cls)\n",
    "        κ.append(blue(results[0],'bold'))\n",
    "        p0.append(results[1])\n",
    "        pe.append(results[2])\n",
    "      \n",
    "\n",
    "    t = PrettyTable(['Name', name[0],name[1],name[2],name[3],name[4],name[5],name[6],name[7],name[8]])\n",
    "    t.add_row(p0)\n",
    "    t.add_row(pe)\n",
    "    t.add_row(κ)\n",
    "\n",
    "    print(blue('Models before calibration','bold'))\n",
    "    g = (time.time() - start_time)\n",
    "    g = np.round(g)\n",
    "    print('time: %s second' % g)\n",
    "    print(t)   \n",
    "    print()\n",
    "  ###------------------------------------------------------------  \n",
    "    \n",
    "    if calibration != True:\n",
    "        print()\n",
    "    else:   \n",
    "        print(blue('Models after calibration','bold'))\n",
    "        \n",
    "        plt.figure(figsize=(15,10))\n",
    "        grid = plt.GridSpec(3, 3, wspace=0.3, hspace=0.5)\n",
    "        \n",
    "        start_time = time.time()\n",
    "    \n",
    "        def compute_metric2(model):\n",
    "            \n",
    "            calibrated = CalibratedClassifierCV(model, method='sigmoid', cv=5)\n",
    "            calibrated.fit(X_train, y_train)     \n",
    "            \n",
    "            calibrated = calibrated.fit(X_train,y_train)\n",
    "            cm = confusion_matrix(y_test, calibrated.predict(X_test))\n",
    "            tn, fp, fn, tp = cm.ravel()\n",
    "   \n",
    "        \n",
    "            p0c = (tn+𝑡𝑝)/(tn+fp+fn+𝑡𝑝)\n",
    "            P_empire = ((tn+fp)/(tn+fp+fn+𝑡𝑝))*((tn+fn)/(tn+fp+fn+𝑡𝑝))\n",
    "            P_theory = ((fn+𝑡𝑝)/(tn+fp+fn+𝑡𝑝))*((fp+𝑡𝑝)/(tn+fp+fn+𝑡𝑝))\n",
    "            pec = P_empire + P_theory\n",
    "            κc = (p0c-pec)/(1-pec)\n",
    "        \n",
    "            κc = np.round(κc,decimals=3)\n",
    "            p0c = np.round(p0c,decimals=3)\n",
    "            pec = np.round(pec,decimals=3)\n",
    "        \n",
    "            return κc,p0c, pec\n",
    "\n",
    "        for cls in six_classifiers:\n",
    "        \n",
    "            results = compute_metric2(cls)\n",
    "            κc.append(blue(results[0],'bold'))\n",
    "            p0c.append(results[1])\n",
    "            pec.append(results[2])\n",
    "      \n",
    "\n",
    "        k = PrettyTable(['Name', name[0],name[1],name[2],name[3],name[4],name[5],name[6],name[7],name[8]])\n",
    "        k.add_row(p0c)\n",
    "        k.add_row(pec)\n",
    "        k.add_row(κc)\n",
    "\n",
    "        n = (time.time() - start_time)\n",
    "        n = np.round(n)\n",
    "        print('time: %s second' % n)         \n",
    "        print(k)\n",
    "    \n",
    "    print(blue('Obserwowana zgodność p0', 'underlined'))\n",
    "    print(black('Jest to prawdopodobieństwo dobrego wyboru, to procent przypadków, które zostały sklasyfikowane prawidłowo w całej matrycy zamieszania, czyli prawdziwi chorzy zostali sklasyfikowani jako chorzy a prawdziwie zdrowi sklasyfikowani jako prawdziwie zdrowi','italic'))\n",
    "    print(blue('Oczekiwana zgodność pe', 'underlined'))\n",
    "    print(black('Jest to prawdopodobieństwo wyboru bezpośrednio związana z liczbą wystąpień każdej klasy. Jeżeli wystąpień klas było po równo (np. 1: 20 wystąpień i 0: 20 wystapień), czyli zbiór był zbilansowany, to prawdopodobieństwo wynosi 50%. ','italic'))\n",
    "    print(blue('Cohen Kappa mówi, o ile lepszy jest model klasyfikacji (p0) od losowego klasyfikatora(pe), który przewiduje na podstawie częstotliwości klas.','italic'))\n",
    "    print(black(''))\n",
    "    print(black('Statystyka może być ujemna, co oznacza, że nie ma skutecznej zgodności między dwoma wskaźnikami lub zgodność jest gorsza niż losowa.'))"
   ]
  },
  {
   "cell_type": "code",
   "execution_count": null,
   "metadata": {},
   "outputs": [],
   "source": [
    "Cohen_Kappa(clasifier_VAL,name_VAL,X_train, y_train,X_test,y_test,calibration=False)"
   ]
  },
  {
   "attachments": {
    "obraz.png": {
     "image/png": "[encoded data removed]"
    }
   },
   "cell_type": "markdown",
   "metadata": {},
   "source": [
    "# <span style=\"font-size: 150%;color:#6fa8dc;background:#cfe2f3\">Matthews Correlation Coefficient MCC  ![obraz.png](attachment:obraz.png)"
   ]
  },
  {
   "cell_type": "markdown",
   "metadata": {},
   "source": [
    "The Matthews Correlation Coefficient (MCC) has a range of -1 to 1, where -1 is a completely bad binary classifier and 1 is a completely valid binary classifier.\n",
    "\n",
    "\n",
    "<font size=\"3\"> \n",
    "$ \\bbox[23px,border:1px solid red]\n",
    "{\n",
    " MCC = \\displaystyle\\frac{{(tp \\times tn)}-{(fp \\times fn)}}{(tp+fp)(tp+fn)(tn+fp)(tn+fn)}\n",
    "\\qquad   \n",
    "} $"
   ]
  },
  {
   "cell_type": "code",
   "execution_count": null,
   "metadata": {},
   "outputs": [],
   "source": [
    "def MCC(six_classifiers,name, X_train, y_train,X_test,y_test,calibration=True):\n",
    "    \n",
    "    from sklearn.calibration import CalibratedClassifierCV, calibration_curve\n",
    "    import time   \n",
    "    \n",
    "    start_time = time.time()\n",
    "    \n",
    "    from sklearn import metrics\n",
    "    import simple_colors\n",
    "    \n",
    "    #for cls in six_classifiers:\n",
    "    #    cls.fit(X_train, y_train)    \n",
    "    \n",
    "    \n",
    "    MCC = ['MCC:']\n",
    "    \n",
    "    def compute_metric(model):\n",
    "        \n",
    "        from sklearn.metrics import confusion_matrix\n",
    "\n",
    "        #model.fit(X_train,y_train)\n",
    "        cm = confusion_matrix(y_test, model.predict(X_test))\n",
    "        tn, fp, fn, tp = cm.ravel()     \n",
    "        \n",
    "        MCC = ((tp*tn)-(fp*fn))/(((tp+fp)*(tp+fn)*(tn+fp)*(tn+fn))** .5)\n",
    "        MCC = np.round(MCC,decimals=3)\n",
    "        MCC\n",
    "        \n",
    "        return MCC\n",
    "\n",
    "    for cls in six_classifiers:\n",
    "        \n",
    "        results = compute_metric(cls)\n",
    "        MCC.append(results)\n",
    "             \n",
    "\n",
    "    t = PrettyTable(['Name', name[0],name[1],name[2],name[3],name[4],name[5],name[6],name[7],name[8]])\n",
    "    t.add_row(MCC)\n",
    "    \n",
    "    print('Matthews Correlation Coefficient MCC')\n",
    "        \n",
    "    ### ---------------------------------------------------\n",
    "    \n",
    "    print(blue('Models before calibration','bold'))\n",
    "    g = (time.time() - start_time)\n",
    "    g = np.round(g)\n",
    "    print('time: %s seconds' % g)\n",
    "    print(t)\n",
    "    \n",
    "    ### ---------------------------------------------------\n",
    "        \n",
    "    if calibration != True:\n",
    "        print()\n",
    "    else:   \n",
    "        print(blue('Models after calibration','bold'))\n",
    "\n",
    "   \n",
    "\n",
    "        start_time = time.time()\n",
    "    \n",
    "        from sklearn import metrics\n",
    "        import simple_colors\n",
    "    \n",
    "        #for cls in six_classifiers:\n",
    "        #    cls.fit(X_train, y_train)    \n",
    "    \n",
    "    \n",
    "        MCC = ['MCC:']\n",
    "    \n",
    "        def compute_metric(model):\n",
    "        \n",
    "            from sklearn.metrics import confusion_matrix\n",
    "\n",
    "            calibrated = CalibratedClassifierCV(model, method='sigmoid', cv=5)\n",
    "            calibrated.fit(X_train, y_train)    \n",
    "            cm = confusion_matrix(y_test, calibrated.predict(X_test))\n",
    "            tn, fp, fn, tp = cm.ravel()     \n",
    "        \n",
    "            MCC = ((tp*tn)-(fp*fn))/(((tp+fp)*(tp+fn)*(tn+fp)*(tn+fn))** .5)\n",
    "            MCC = np.round(MCC,decimals=3)\n",
    "            MCC\n",
    "        \n",
    "            return MCC\n",
    "\n",
    "        for cls in six_classifiers:\n",
    "        \n",
    "            results = compute_metric(cls)\n",
    "            MCC.append(results)\n",
    "             \n",
    "\n",
    "        k = PrettyTable(['Name', name[0],name[1],name[2],name[3],name[4],name[5],name[6],name[7],name[8]])\n",
    "        k.add_row(MCC)\n",
    "    \n",
    "        n = (time.time() - start_time)\n",
    "        n = np.round(n)\n",
    "        print('time: %s seconds' % n)         \n",
    "        print(k)\n",
    "    \n",
    "       \n",
    "    print(black('Współczynnik korelacji Matthewsa (MCC) ma zakres od -1 do 1, gdzie -1 oznacza całkowicie zły klasyfikator binarny, a 1 oznacza całkowicie poprawny klasyfikator binarny','italic'))\n",
    "    "
   ]
  },
  {
   "cell_type": "code",
   "execution_count": null,
   "metadata": {},
   "outputs": [],
   "source": [
    "MCC(clasifier_VAL,name_VAL,X_train, y_train,X_test,y_test,calibration=False)"
   ]
  },
  {
   "cell_type": "markdown",
   "metadata": {},
   "source": [
    "https://en.wikipedia.org/wiki/Cohen%27s_kappa"
   ]
  },
  {
   "cell_type": "markdown",
   "metadata": {},
   "source": [
    "## <span style=\"font-size: 150%;color:#6fa8dc;background:#cfe2f3\">Trainsize"
   ]
  },
  {
   "cell_type": "raw",
   "metadata": {},
   "source": [
    "def Trainsize(six_classifiers,name, X_train, y_train,X_test,y_test,calibration=True):\n",
    "    \n",
    "    import time\n",
    "    from mlxtend.plotting import plot_learning_curves\n",
    "    from sklearn.calibration import CalibratedClassifierCV, calibration_curve\n",
    "    \n",
    "    start_time = time.time()\n",
    "    \n",
    "    #for cls in six_classifiers:\n",
    "    #    cls.fit(X_train, y_train) \n",
    "        \n",
    "    plt.figure(figsize=(15,7))\n",
    "\n",
    "    grid = plt.GridSpec(3, 3, wspace=0.3, hspace=0.4)\n",
    "\n",
    "    for i in range(9):\n",
    "        col, row = i%3,i//3\n",
    "        ax = plt.subplot(grid[row,col]) \n",
    "        ax.title.set_text(type(six_classifiers[i]).__name__)\n",
    "        ax.title.set_color('blue')\n",
    "    \n",
    "        model = six_classifiers[i]\n",
    "        plot_learning_curves(X_train, y_train, \n",
    "                             X_test, y_test, \n",
    "                             model, print_model=False, style='ggplot')\n",
    "        \n",
    "        ### ---------------------------------------------------\n",
    "        \n",
    "    if calibration != True:\n",
    "        print()\n",
    "    else:   \n",
    "        print('IN PENDING')\n",
    "        #for cls in six_classifiers:\n",
    "        #    cls.fit(X_train, y_train) \n",
    "        \n",
    "        #plt.figure(figsize=(15,7))\n",
    "\n",
    "        #grid = plt.GridSpec(3, 3, wspace=0.3, hspace=0.4)\n",
    "\n",
    "        #for i in range(9):\n",
    "        #    col, row = i%3,i//3\n",
    "        #    ax = plt.subplot(grid[row,col]) \n",
    "        #    ax.title.set_text(type(six_classifiers[i]).__name__)\n",
    "        #    ax.title.set_color('blue')\n",
    "    \n",
    "            \n",
    "        #    model = six_classifiers[i]\n",
    "        #    calibrated = CalibratedClassifierCV(model, method='sigmoid', cv=5)\n",
    "        #    calibrated.fit(X_train, y_train) \n",
    "            \n",
    "        #    plot_learning_curves(X_train, y_train, \n",
    "        #                        X_test, y_test, \n",
    "        #                         calibrated, print_model=False, style='ggplot')\n",
    "                \n",
    "        \n",
    "        \n",
    "    n = (time.time() - start_time)\n",
    "    n = np.round(n)\n",
    "    print('time: %s seconds' % n)           \n",
    "    print('Jeżeli zbiór testowy i treningowy bardzo odstają od siebie oznacza to przeuczenie modelu')\n",
    "    print('Znajduje się tu miejsce gdzie oba wykresy testowy i treningowy są najbliżej siebie.')\n",
    "    print('Dla takiej wielkości próby model działa najlepiej w kontekście przeuczenia na wykresie należy brać pod uwagę wielkość błędu klasyfikacji (oś y)')"
   ]
  },
  {
   "cell_type": "raw",
   "metadata": {},
   "source": [
    "Trainsize(classifiers_1,name1, X_train, y_train,X_test,y_test,calibration=False)"
   ]
  },
  {
   "cell_type": "raw",
   "metadata": {},
   "source": [
    "Trainsize(classifiers_2,name2, X_train, y_train,X_test,y_test,calibration=False)"
   ]
  },
  {
   "cell_type": "raw",
   "metadata": {},
   "source": [
    "Trainsize(classifiers_F,nameF,X_train, y_train,X_test,y_test,calibration=False)"
   ]
  },
  {
   "cell_type": "code",
   "execution_count": null,
   "metadata": {},
   "outputs": [],
   "source": [
    "def ks_statistic(six_classifiers,name, X_train, y_train,X_test,y_test,calibration=True):\n",
    "    \n",
    "    \n",
    "    from matplotlib import rcParams      ## Robie odstęp na podtytuł\n",
    "    rcParams['axes.titlepad'] = 20 \n",
    "    from sklearn.calibration import CalibratedClassifierCV, calibration_curve\n",
    "    import scikitplot as skplt\n",
    "    import time\n",
    "    start_time = time.time()\n",
    "    \n",
    "    plt.figure(figsize=(15,10))\n",
    "    grid = plt.GridSpec(3, 3, wspace=0.3, hspace=0.5)\n",
    "\n",
    "    #for cls in six_classifiers:\n",
    "    #    cls.fit(X_train, y_train)\n",
    "\n",
    "    for i in range(9):\n",
    "\n",
    "        col, row = i%3,i//3\n",
    "        ax = plt.subplot(grid[row,col]) \n",
    "        ax.title.set_color('blue')\n",
    "\n",
    "        model = six_classifiers[i]\n",
    "        # skplt.metrics.plot_roc(y_test, model.predict_proba(X_test), ax=ax, title=type(six_classifiers[i]).__name__)\n",
    "        skplt.metrics.plot_ks_statistic(y_test, model.predict_proba(X_test), ax=ax,title=type(six_classifiers[i]).__name__)\n",
    "        ax.text(0.5, 1.04, name[i],fontsize=10)    ## podtytuł\n",
    "        ax.text(0.0, 1.04, 'before calibration',color='black', fontsize=10)\n",
    "### ---------------------------------------------------\n",
    "    \n",
    "    if calibration != True:\n",
    "        print()\n",
    "    else:   \n",
    "    \n",
    "    \n",
    "        plt.figure(figsize=(15,10))\n",
    "        grid = plt.GridSpec(3, 3, wspace=0.3, hspace=0.5)\n",
    "\n",
    "        #for cls in six_classifiers:\n",
    "        #    cls.fit(X_train, y_train)\n",
    "\n",
    "        for i in range(9):\n",
    "\n",
    "            col, row = i%3,i//3\n",
    "            ax = plt.subplot(grid[row,col]) \n",
    "            ax.title.set_color('blue')\n",
    "\n",
    "       \n",
    "            model = six_classifiers[i]\n",
    "            calibrated = CalibratedClassifierCV(model, method='sigmoid', cv=5)\n",
    "            calibrated.fit(X_train, y_train)         \n",
    "        \n",
    "            skplt.metrics.plot_ks_statistic(y_test, calibrated.predict_proba(X_test), ax=ax,title=type(six_classifiers[i]).__name__)\n",
    "            ax.text(0.5, 1.04, name[i],fontsize=10)    ## podtytuł\n",
    "            ax.text(0.0, 1.04, 'after calibration',color='red', fontsize=10)    ## podtytuł\n",
    "    \n",
    "    n = (time.time() - start_time)\n",
    "    n = np.round(n)\n",
    "    print('time: %s seconds' % n)       "
   ]
  },
  {
   "cell_type": "code",
   "execution_count": null,
   "metadata": {},
   "outputs": [],
   "source": [
    "ks_statistic(clasifier_VAL,name_VAL,X_train, y_train,X_test,y_test,calibration=False)"
   ]
  },
  {
   "cell_type": "raw",
   "metadata": {},
   "source": [
    "def precision_recall2(six_classifiers,name, X_train, y_train,X_test,y_test):\n",
    "    \n",
    "    from sklearn.calibration import CalibratedClassifierCV, calibration_curve\n",
    "    from matplotlib import rcParams      ## Robie odstęp na podtytuł\n",
    "    rcParams['axes.titlepad'] = 20 \n",
    "    import time\n",
    "    start_time = time.time()\n",
    "    \n",
    "    import scikitplot as skplt\n",
    "    \n",
    "    plt.figure(figsize=(15,10))\n",
    "    grid = plt.GridSpec(3, 3, wspace=0.3, hspace=0.5)\n",
    "\n",
    "    #for cls in six_classifiers:\n",
    "    #    cls.fit(X_train, y_train)\n",
    "\n",
    "    for i in range(9):\n",
    "\n",
    "        col, row = i%3,i//3\n",
    "        ax = plt.subplot(grid[row,col]) \n",
    "        ax.title.set_color('blue')\n",
    "\n",
    "        model = six_classifiers[i]\n",
    "\n",
    "        skplt.metrics.plot_precision_recall(y_test, model.predict_proba(X_test), ax=ax,title=type(six_classifiers[i]).__name__)\n",
    "        ax.text(0.5, 1.09, name[i],fontsize=10)    ## podtytuł\n",
    "        ax.text(0.0, 1.04, 'before calibration',color='black', fontsize=10)\n",
    "### ---------------------------------------------------------------------\n",
    "\n",
    "    plt.figure(figsize=(15,10))\n",
    "    grid = plt.GridSpec(3, 3, wspace=0.3, hspace=0.5)\n",
    "\n",
    "    #for cls in six_classifiers:\n",
    "    #    cls.fit(X_train, y_train)\n",
    "\n",
    "    for i in range(9):\n",
    "\n",
    "        col, row = i%3,i//3\n",
    "        ax = plt.subplot(grid[row,col]) \n",
    "        ax.title.set_color('blue')\n",
    "\n",
    "        model = six_classifiers[i]\n",
    "        calibrated = CalibratedClassifierCV(model, method='sigmoid', cv=5)\n",
    "        calibrated.fit(X_train, y_train)         \n",
    "\n",
    "        skplt.metrics.plot_precision_recall(y_test, calibrated.predict_proba(X_test), ax=ax,title=type(six_classifiers[i]).__name__)\n",
    "        ax.text(0.5, 1.09, name[i],fontsize=10)    ## podtytuł\n",
    "        ax.text(0.0, 1.04, 'after calibration',color='red', fontsize=10)    ## podtytuł\n",
    "\n",
    "    n = (time.time() - start_time)\n",
    "    n = np.round(n)\n",
    "    print('time: %s seconds' % n)     \n",
    "    print(blue('Jest to krzywa łącząca precyzję (PPV) i Recall (TPR) na jednym wykresie. Im wyższa krzywa na osi y, tym lepsza wydajność modelu. Informuje, przy którym recall, precision zaczyna spadać, może pomóc wybrać próg'))"
   ]
  },
  {
   "cell_type": "raw",
   "metadata": {},
   "source": [
    "precision_recall2(clasifier_VAL,name_VAL,X_train, y_train,X_test,y_test)"
   ]
  },
  {
   "cell_type": "markdown",
   "metadata": {},
   "source": [
    "Jak widac na wykresach problemem jest precyzjia klasy 1. Nie pomogła w tym zbilansowanie zbiorów przez oversampling."
   ]
  },
  {
   "cell_type": "markdown",
   "metadata": {},
   "source": [
    "https://scikit-learn.org/stable/auto_examples/calibration/plot_calibration_curve.html"
   ]
  },
  {
   "cell_type": "code",
   "execution_count": null,
   "metadata": {},
   "outputs": [],
   "source": [
    "def cumulative_gain(six_classifiers,name, X_train, y_train,X_test,y_test):\n",
    "\n",
    "    from matplotlib import rcParams      ## Robie odstęp na podtytuł\n",
    "    rcParams['axes.titlepad'] = 20     \n",
    "    \n",
    "    import scikitplot as skplt\n",
    "    \n",
    "    plt.figure(figsize=(15,7))\n",
    "    grid = plt.GridSpec(2, 3, wspace=0.3, hspace=0.5)\n",
    "\n",
    "    #for cls in six_classifiers:\n",
    "    #    cls.fit(X_train, y_train)\n",
    "\n",
    "    for i in range(6):\n",
    "\n",
    "        col, row = i%3,i//3\n",
    "        ax = plt.subplot(grid[row,col]) \n",
    "        ax.title.set_color('blue')\n",
    "\n",
    "        model = six_classifiers[i]\n",
    "\n",
    "        skplt.metrics.plot_cumulative_gain(y_test, model.predict_proba(X_test), ax=ax,title=type(six_classifiers[i]).__name__)\n",
    "        ax.text(0.5, 1.04, name[i],fontsize=10)    ## podtytuł\n",
    "        \n",
    "    plt.show()"
   ]
  },
  {
   "cell_type": "code",
   "execution_count": null,
   "metadata": {},
   "outputs": [],
   "source": [
    "cumulative_gain(clasifier_VAL,name_VAL,X_train, y_train,X_test,y_test)"
   ]
  },
  {
   "cell_type": "code",
   "execution_count": null,
   "metadata": {},
   "outputs": [],
   "source": [
    "def lift_curve(six_classifiers,name, X_train, y_train,X_test,y_test):\n",
    "                \n",
    "    import scikitplot as skplt\n",
    "    \n",
    "    plt.figure(figsize=(15,7))\n",
    "    grid = plt.GridSpec(2, 3, wspace=0.3, hspace=0.5)\n",
    "\n",
    "    #for cls in six_classifiers:\n",
    "    #    cls.fit(X_train, y_train)\n",
    "\n",
    "    for i in range(6):\n",
    "\n",
    "        col, row = i%3,i//3\n",
    "        ax = plt.subplot(grid[row,col]) \n",
    "        ax.title.set_color('blue')\n",
    "\n",
    "        model = six_classifiers[i]\n",
    "\n",
    "        skplt.metrics.plot_lift_curve(y_test, model.predict_proba(X_test), ax=ax,title=type(six_classifiers[i]).__name__)\n",
    "        ax.text(0.5, 8.04, name[i],fontsize=12)    ## podtytuł\n",
    "        \n",
    "    plt.show()"
   ]
  },
  {
   "cell_type": "code",
   "execution_count": null,
   "metadata": {},
   "outputs": [],
   "source": [
    "lift_curve(clasifier_VAL,name_VAL,X_train, y_train,X_test,y_test)"
   ]
  },
  {
   "cell_type": "markdown",
   "metadata": {},
   "source": [
    "### Koniec pomiaru czasu "
   ]
  },
  {
   "cell_type": "code",
   "execution_count": null,
   "metadata": {},
   "outputs": [],
   "source": [
    "print('Time to complete the task')\n",
    "print('minutes: ',\n",
    "(time.time() - start_time)/60) ## koniec pomiaru czasu\n",
    "t = (time.time() - start_time)/60\n",
    "a,b = df.shape\n",
    "\n",
    "print('Czas ile minut na jedne rekord: ',t/a)"
   ]
  }
 ],
 "metadata": {
  "kernelspec": {
   "display_name": "Python 3",
   "language": "python",
   "name": "python3"
  },
  "language_info": {
   "codemirror_mode": {
    "name": "ipython",
    "version": 3
   },
   "file_extension": ".py",
   "mimetype": "text/x-python",
   "name": "python",
   "nbconvert_exporter": "python",
   "pygments_lexer": "ipython3",
   "version": "3.6.9"
  }
 },
 "nbformat": 4,
 "nbformat_minor": 2
}
